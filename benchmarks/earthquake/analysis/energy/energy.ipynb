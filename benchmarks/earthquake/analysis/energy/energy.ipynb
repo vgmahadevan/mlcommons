{
 "cells": [
  {
   "cell_type": "code",
   "execution_count": 1,
   "metadata": {
    "collapsed": true
   },
   "outputs": [],
   "source": [
    "from cloudmesh.common.Shell import Shell\n",
    "from cloudmesh.common.util import readfile\n",
    "import sys\n",
    "import pandas as pd\n",
    "import io\n",
    "import seaborn as sns\n",
    "import matplotlib.pyplot as plt\n",
    "import os"
   ]
  },
  {
   "cell_type": "code",
   "execution_count": 72,
   "outputs": [],
   "source": [
    "def read_energy(filename=None):\n",
    "   full_filename = Shell.map_filename(filename).path\n",
    "   # 1: means removing hashes\n",
    "   content = readfile(full_filename).splitlines()[1:]\n",
    "   # removing #\n",
    "   content[0] = content[0][2:]\n",
    "   # print(content[0:10])\n",
    "   content = \"\\n\".join(content)\n",
    "   content = content.replace(', ', ',')\n",
    "   df = pd.read_csv(io.StringIO(content),sep=',')\n",
    "   return df\n"
   ],
   "metadata": {
    "collapsed": false
   }
  },
  {
   "cell_type": "code",
   "execution_count": 73,
   "outputs": [],
   "source": [
    "def export_figure(x='Time/s', y='Energy/W', filename=None):\n",
    "   plt.xlabel(x)\n",
    "   plt.ylabel(y)\n",
    "   base = os.path.dirname(filename.replace('_', '-').lower())\n",
    "   png = base + \".png\"\n",
    "   pdf = base + \".pdf\"\n",
    "   plt.savefig(png, bbox_inches='tight', dpi=600)\n",
    "   plt.savefig(pdf, bbox_inches='tight')"
   ],
   "metadata": {
    "collapsed": false
   }
  },
  {
   "cell_type": "code",
   "execution_count": 74,
   "outputs": [],
   "source": [
    "def convert_colum_to_seconds(df, name):\n",
    "    df[[name]] = df[[name]].astype('datetime64[us]')\n",
    "    start_t = df[[name]].iloc[0]\n",
    "    print (start_t, type(start_t))\n",
    "    df[[name]] = df[[name]] - start_t\n",
    "    df[[name]] = df[[name]].astype(int)/1000000000\n",
    "    df"
   ],
   "metadata": {
    "collapsed": false
   }
  },
  {
   "cell_type": "code",
   "execution_count": 75,
   "outputs": [
    {
     "ename": "ParserError",
     "evalue": "Unknown string format: 2022-12-21:12:55:22.564333 present at position 0",
     "output_type": "error",
     "traceback": [
      "\u001B[0;31m---------------------------------------------------------------------------\u001B[0m",
      "\u001B[0;31mParserError\u001B[0m                               Traceback (most recent call last)",
      "File \u001B[0;32m~/ENV3/lib/python3.10/site-packages/pandas/_libs/tslib.pyx:605\u001B[0m, in \u001B[0;36mpandas._libs.tslib.array_to_datetime\u001B[0;34m()\u001B[0m\n",
      "File \u001B[0;32m~/ENV3/lib/python3.10/site-packages/pandas/_libs/tslibs/parsing.pyx:320\u001B[0m, in \u001B[0;36mpandas._libs.tslibs.parsing.parse_datetime_string\u001B[0;34m()\u001B[0m\n",
      "File \u001B[0;32m~/ENV3/lib/python3.10/site-packages/dateutil/parser/_parser.py:1368\u001B[0m, in \u001B[0;36mparse\u001B[0;34m(timestr, parserinfo, **kwargs)\u001B[0m\n\u001B[1;32m   1367\u001B[0m \u001B[38;5;28;01melse\u001B[39;00m:\n\u001B[0;32m-> 1368\u001B[0m     \u001B[38;5;28;01mreturn\u001B[39;00m \u001B[43mDEFAULTPARSER\u001B[49m\u001B[38;5;241;43m.\u001B[39;49m\u001B[43mparse\u001B[49m\u001B[43m(\u001B[49m\u001B[43mtimestr\u001B[49m\u001B[43m,\u001B[49m\u001B[43m \u001B[49m\u001B[38;5;241;43m*\u001B[39;49m\u001B[38;5;241;43m*\u001B[39;49m\u001B[43mkwargs\u001B[49m\u001B[43m)\u001B[49m\n",
      "File \u001B[0;32m~/ENV3/lib/python3.10/site-packages/dateutil/parser/_parser.py:643\u001B[0m, in \u001B[0;36mparser.parse\u001B[0;34m(self, timestr, default, ignoretz, tzinfos, **kwargs)\u001B[0m\n\u001B[1;32m    642\u001B[0m \u001B[38;5;28;01mif\u001B[39;00m res \u001B[38;5;129;01mis\u001B[39;00m \u001B[38;5;28;01mNone\u001B[39;00m:\n\u001B[0;32m--> 643\u001B[0m     \u001B[38;5;28;01mraise\u001B[39;00m ParserError(\u001B[38;5;124m\"\u001B[39m\u001B[38;5;124mUnknown string format: \u001B[39m\u001B[38;5;132;01m%s\u001B[39;00m\u001B[38;5;124m\"\u001B[39m, timestr)\n\u001B[1;32m    645\u001B[0m \u001B[38;5;28;01mif\u001B[39;00m \u001B[38;5;28mlen\u001B[39m(res) \u001B[38;5;241m==\u001B[39m \u001B[38;5;241m0\u001B[39m:\n",
      "\u001B[0;31mParserError\u001B[0m: Unknown string format: 2022-12-21:12:55:22.564333",
      "\nDuring handling of the above exception, another exception occurred:\n",
      "\u001B[0;31mTypeError\u001B[0m                                 Traceback (most recent call last)",
      "File \u001B[0;32m~/ENV3/lib/python3.10/site-packages/pandas/_libs/tslib.pyx:616\u001B[0m, in \u001B[0;36mpandas._libs.tslib.array_to_datetime\u001B[0;34m()\u001B[0m\n",
      "\u001B[0;31mTypeError\u001B[0m: invalid string coercion to datetime for \"2022-12-21:12:55:22.564333\" at position 0",
      "\nDuring handling of the above exception, another exception occurred:\n",
      "\u001B[0;31mParserError\u001B[0m                               Traceback (most recent call last)",
      "Cell \u001B[0;32mIn[75], line 8\u001B[0m\n\u001B[1;32m      6\u001B[0m fig, ax \u001B[38;5;241m=\u001B[39m plt\u001B[38;5;241m.\u001B[39msubplots()\n\u001B[1;32m      7\u001B[0m df \u001B[38;5;241m=\u001B[39m read_energy(filename)\n\u001B[0;32m----> 8\u001B[0m \u001B[43mconvert_colum_to_seconds\u001B[49m\u001B[43m(\u001B[49m\u001B[43mdf\u001B[49m\u001B[43m,\u001B[49m\u001B[43m \u001B[49m\u001B[38;5;124;43m\"\u001B[39;49m\u001B[38;5;124;43mtime\u001B[39;49m\u001B[38;5;124;43m\"\u001B[39;49m\u001B[43m)\u001B[49m\n\u001B[1;32m      9\u001B[0m label \u001B[38;5;241m=\u001B[39m \u001B[38;5;124mf\u001B[39m\u001B[38;5;124m'\u001B[39m\u001B[38;5;124mEpoch \u001B[39m\u001B[38;5;132;01m{\u001B[39;00mepoch\u001B[38;5;132;01m}\u001B[39;00m\u001B[38;5;124m'\u001B[39m\n\u001B[1;32m     10\u001B[0m df\u001B[38;5;241m.\u001B[39mrename(columns \u001B[38;5;241m=\u001B[39m {\u001B[38;5;124m'\u001B[39m\u001B[38;5;124m0 power_draw W\u001B[39m\u001B[38;5;124m'\u001B[39m:label}, inplace\u001B[38;5;241m=\u001B[39m\u001B[38;5;28;01mTrue\u001B[39;00m)\n",
      "Cell \u001B[0;32mIn[74], line 2\u001B[0m, in \u001B[0;36mconvert_colum_to_seconds\u001B[0;34m(df, name)\u001B[0m\n\u001B[1;32m      1\u001B[0m \u001B[38;5;28;01mdef\u001B[39;00m \u001B[38;5;21mconvert_colum_to_seconds\u001B[39m(df, name):\n\u001B[0;32m----> 2\u001B[0m     df[[name]] \u001B[38;5;241m=\u001B[39m \u001B[43mdf\u001B[49m\u001B[43m[\u001B[49m\u001B[43m[\u001B[49m\u001B[43mname\u001B[49m\u001B[43m]\u001B[49m\u001B[43m]\u001B[49m\u001B[38;5;241;43m.\u001B[39;49m\u001B[43mastype\u001B[49m\u001B[43m(\u001B[49m\u001B[38;5;124;43m'\u001B[39;49m\u001B[38;5;124;43mdatetime64[us]\u001B[39;49m\u001B[38;5;124;43m'\u001B[39;49m\u001B[43m)\u001B[49m\n\u001B[1;32m      3\u001B[0m     start_t \u001B[38;5;241m=\u001B[39m df[[name]]\u001B[38;5;241m.\u001B[39miloc[\u001B[38;5;241m0\u001B[39m]\n\u001B[1;32m      4\u001B[0m     \u001B[38;5;28mprint\u001B[39m (start_t, \u001B[38;5;28mtype\u001B[39m(start_t))\n",
      "File \u001B[0;32m~/ENV3/lib/python3.10/site-packages/pandas/core/generic.py:6240\u001B[0m, in \u001B[0;36mNDFrame.astype\u001B[0;34m(self, dtype, copy, errors)\u001B[0m\n\u001B[1;32m   6233\u001B[0m     results \u001B[38;5;241m=\u001B[39m [\n\u001B[1;32m   6234\u001B[0m         \u001B[38;5;28mself\u001B[39m\u001B[38;5;241m.\u001B[39miloc[:, i]\u001B[38;5;241m.\u001B[39mastype(dtype, copy\u001B[38;5;241m=\u001B[39mcopy)\n\u001B[1;32m   6235\u001B[0m         \u001B[38;5;28;01mfor\u001B[39;00m i \u001B[38;5;129;01min\u001B[39;00m \u001B[38;5;28mrange\u001B[39m(\u001B[38;5;28mlen\u001B[39m(\u001B[38;5;28mself\u001B[39m\u001B[38;5;241m.\u001B[39mcolumns))\n\u001B[1;32m   6236\u001B[0m     ]\n\u001B[1;32m   6238\u001B[0m \u001B[38;5;28;01melse\u001B[39;00m:\n\u001B[1;32m   6239\u001B[0m     \u001B[38;5;66;03m# else, only a single dtype is given\u001B[39;00m\n\u001B[0;32m-> 6240\u001B[0m     new_data \u001B[38;5;241m=\u001B[39m \u001B[38;5;28;43mself\u001B[39;49m\u001B[38;5;241;43m.\u001B[39;49m\u001B[43m_mgr\u001B[49m\u001B[38;5;241;43m.\u001B[39;49m\u001B[43mastype\u001B[49m\u001B[43m(\u001B[49m\u001B[43mdtype\u001B[49m\u001B[38;5;241;43m=\u001B[39;49m\u001B[43mdtype\u001B[49m\u001B[43m,\u001B[49m\u001B[43m \u001B[49m\u001B[43mcopy\u001B[49m\u001B[38;5;241;43m=\u001B[39;49m\u001B[43mcopy\u001B[49m\u001B[43m,\u001B[49m\u001B[43m \u001B[49m\u001B[43merrors\u001B[49m\u001B[38;5;241;43m=\u001B[39;49m\u001B[43merrors\u001B[49m\u001B[43m)\u001B[49m\n\u001B[1;32m   6241\u001B[0m     \u001B[38;5;28;01mreturn\u001B[39;00m \u001B[38;5;28mself\u001B[39m\u001B[38;5;241m.\u001B[39m_constructor(new_data)\u001B[38;5;241m.\u001B[39m__finalize__(\u001B[38;5;28mself\u001B[39m, method\u001B[38;5;241m=\u001B[39m\u001B[38;5;124m\"\u001B[39m\u001B[38;5;124mastype\u001B[39m\u001B[38;5;124m\"\u001B[39m)\n\u001B[1;32m   6243\u001B[0m \u001B[38;5;66;03m# GH 33113: handle empty frame or series\u001B[39;00m\n",
      "File \u001B[0;32m~/ENV3/lib/python3.10/site-packages/pandas/core/internals/managers.py:450\u001B[0m, in \u001B[0;36mBaseBlockManager.astype\u001B[0;34m(self, dtype, copy, errors)\u001B[0m\n\u001B[1;32m    449\u001B[0m \u001B[38;5;28;01mdef\u001B[39;00m \u001B[38;5;21mastype\u001B[39m(\u001B[38;5;28mself\u001B[39m: T, dtype, copy: \u001B[38;5;28mbool\u001B[39m \u001B[38;5;241m=\u001B[39m \u001B[38;5;28;01mFalse\u001B[39;00m, errors: \u001B[38;5;28mstr\u001B[39m \u001B[38;5;241m=\u001B[39m \u001B[38;5;124m\"\u001B[39m\u001B[38;5;124mraise\u001B[39m\u001B[38;5;124m\"\u001B[39m) \u001B[38;5;241m-\u001B[39m\u001B[38;5;241m>\u001B[39m T:\n\u001B[0;32m--> 450\u001B[0m     \u001B[38;5;28;01mreturn\u001B[39;00m \u001B[38;5;28;43mself\u001B[39;49m\u001B[38;5;241;43m.\u001B[39;49m\u001B[43mapply\u001B[49m\u001B[43m(\u001B[49m\u001B[38;5;124;43m\"\u001B[39;49m\u001B[38;5;124;43mastype\u001B[39;49m\u001B[38;5;124;43m\"\u001B[39;49m\u001B[43m,\u001B[49m\u001B[43m \u001B[49m\u001B[43mdtype\u001B[49m\u001B[38;5;241;43m=\u001B[39;49m\u001B[43mdtype\u001B[49m\u001B[43m,\u001B[49m\u001B[43m \u001B[49m\u001B[43mcopy\u001B[49m\u001B[38;5;241;43m=\u001B[39;49m\u001B[43mcopy\u001B[49m\u001B[43m,\u001B[49m\u001B[43m \u001B[49m\u001B[43merrors\u001B[49m\u001B[38;5;241;43m=\u001B[39;49m\u001B[43merrors\u001B[49m\u001B[43m)\u001B[49m\n",
      "File \u001B[0;32m~/ENV3/lib/python3.10/site-packages/pandas/core/internals/managers.py:352\u001B[0m, in \u001B[0;36mBaseBlockManager.apply\u001B[0;34m(self, f, align_keys, ignore_failures, **kwargs)\u001B[0m\n\u001B[1;32m    350\u001B[0m         applied \u001B[38;5;241m=\u001B[39m b\u001B[38;5;241m.\u001B[39mapply(f, \u001B[38;5;241m*\u001B[39m\u001B[38;5;241m*\u001B[39mkwargs)\n\u001B[1;32m    351\u001B[0m     \u001B[38;5;28;01melse\u001B[39;00m:\n\u001B[0;32m--> 352\u001B[0m         applied \u001B[38;5;241m=\u001B[39m \u001B[38;5;28;43mgetattr\u001B[39;49m\u001B[43m(\u001B[49m\u001B[43mb\u001B[49m\u001B[43m,\u001B[49m\u001B[43m \u001B[49m\u001B[43mf\u001B[49m\u001B[43m)\u001B[49m\u001B[43m(\u001B[49m\u001B[38;5;241;43m*\u001B[39;49m\u001B[38;5;241;43m*\u001B[39;49m\u001B[43mkwargs\u001B[49m\u001B[43m)\u001B[49m\n\u001B[1;32m    353\u001B[0m \u001B[38;5;28;01mexcept\u001B[39;00m (\u001B[38;5;167;01mTypeError\u001B[39;00m, \u001B[38;5;167;01mNotImplementedError\u001B[39;00m):\n\u001B[1;32m    354\u001B[0m     \u001B[38;5;28;01mif\u001B[39;00m \u001B[38;5;129;01mnot\u001B[39;00m ignore_failures:\n",
      "File \u001B[0;32m~/ENV3/lib/python3.10/site-packages/pandas/core/internals/blocks.py:526\u001B[0m, in \u001B[0;36mBlock.astype\u001B[0;34m(self, dtype, copy, errors)\u001B[0m\n\u001B[1;32m    508\u001B[0m \u001B[38;5;124;03m\"\"\"\u001B[39;00m\n\u001B[1;32m    509\u001B[0m \u001B[38;5;124;03mCoerce to the new dtype.\u001B[39;00m\n\u001B[1;32m    510\u001B[0m \n\u001B[0;32m   (...)\u001B[0m\n\u001B[1;32m    522\u001B[0m \u001B[38;5;124;03mBlock\u001B[39;00m\n\u001B[1;32m    523\u001B[0m \u001B[38;5;124;03m\"\"\"\u001B[39;00m\n\u001B[1;32m    524\u001B[0m values \u001B[38;5;241m=\u001B[39m \u001B[38;5;28mself\u001B[39m\u001B[38;5;241m.\u001B[39mvalues\n\u001B[0;32m--> 526\u001B[0m new_values \u001B[38;5;241m=\u001B[39m \u001B[43mastype_array_safe\u001B[49m\u001B[43m(\u001B[49m\u001B[43mvalues\u001B[49m\u001B[43m,\u001B[49m\u001B[43m \u001B[49m\u001B[43mdtype\u001B[49m\u001B[43m,\u001B[49m\u001B[43m \u001B[49m\u001B[43mcopy\u001B[49m\u001B[38;5;241;43m=\u001B[39;49m\u001B[43mcopy\u001B[49m\u001B[43m,\u001B[49m\u001B[43m \u001B[49m\u001B[43merrors\u001B[49m\u001B[38;5;241;43m=\u001B[39;49m\u001B[43merrors\u001B[49m\u001B[43m)\u001B[49m\n\u001B[1;32m    528\u001B[0m new_values \u001B[38;5;241m=\u001B[39m maybe_coerce_values(new_values)\n\u001B[1;32m    529\u001B[0m newb \u001B[38;5;241m=\u001B[39m \u001B[38;5;28mself\u001B[39m\u001B[38;5;241m.\u001B[39mmake_block(new_values)\n",
      "File \u001B[0;32m~/ENV3/lib/python3.10/site-packages/pandas/core/dtypes/astype.py:299\u001B[0m, in \u001B[0;36mastype_array_safe\u001B[0;34m(values, dtype, copy, errors)\u001B[0m\n\u001B[1;32m    296\u001B[0m     \u001B[38;5;28;01mreturn\u001B[39;00m values\u001B[38;5;241m.\u001B[39mcopy()\n\u001B[1;32m    298\u001B[0m \u001B[38;5;28;01mtry\u001B[39;00m:\n\u001B[0;32m--> 299\u001B[0m     new_values \u001B[38;5;241m=\u001B[39m \u001B[43mastype_array\u001B[49m\u001B[43m(\u001B[49m\u001B[43mvalues\u001B[49m\u001B[43m,\u001B[49m\u001B[43m \u001B[49m\u001B[43mdtype\u001B[49m\u001B[43m,\u001B[49m\u001B[43m \u001B[49m\u001B[43mcopy\u001B[49m\u001B[38;5;241;43m=\u001B[39;49m\u001B[43mcopy\u001B[49m\u001B[43m)\u001B[49m\n\u001B[1;32m    300\u001B[0m \u001B[38;5;28;01mexcept\u001B[39;00m (\u001B[38;5;167;01mValueError\u001B[39;00m, \u001B[38;5;167;01mTypeError\u001B[39;00m):\n\u001B[1;32m    301\u001B[0m     \u001B[38;5;66;03m# e.g. astype_nansafe can fail on object-dtype of strings\u001B[39;00m\n\u001B[1;32m    302\u001B[0m     \u001B[38;5;66;03m#  trying to convert to float\u001B[39;00m\n\u001B[1;32m    303\u001B[0m     \u001B[38;5;28;01mif\u001B[39;00m errors \u001B[38;5;241m==\u001B[39m \u001B[38;5;124m\"\u001B[39m\u001B[38;5;124mignore\u001B[39m\u001B[38;5;124m\"\u001B[39m:\n",
      "File \u001B[0;32m~/ENV3/lib/python3.10/site-packages/pandas/core/dtypes/astype.py:230\u001B[0m, in \u001B[0;36mastype_array\u001B[0;34m(values, dtype, copy)\u001B[0m\n\u001B[1;32m    227\u001B[0m     values \u001B[38;5;241m=\u001B[39m values\u001B[38;5;241m.\u001B[39mastype(dtype, copy\u001B[38;5;241m=\u001B[39mcopy)\n\u001B[1;32m    229\u001B[0m \u001B[38;5;28;01melse\u001B[39;00m:\n\u001B[0;32m--> 230\u001B[0m     values \u001B[38;5;241m=\u001B[39m \u001B[43mastype_nansafe\u001B[49m\u001B[43m(\u001B[49m\u001B[43mvalues\u001B[49m\u001B[43m,\u001B[49m\u001B[43m \u001B[49m\u001B[43mdtype\u001B[49m\u001B[43m,\u001B[49m\u001B[43m \u001B[49m\u001B[43mcopy\u001B[49m\u001B[38;5;241;43m=\u001B[39;49m\u001B[43mcopy\u001B[49m\u001B[43m)\u001B[49m\n\u001B[1;32m    232\u001B[0m \u001B[38;5;66;03m# in pandas we don't store numpy str dtypes, so convert to object\u001B[39;00m\n\u001B[1;32m    233\u001B[0m \u001B[38;5;28;01mif\u001B[39;00m \u001B[38;5;28misinstance\u001B[39m(dtype, np\u001B[38;5;241m.\u001B[39mdtype) \u001B[38;5;129;01mand\u001B[39;00m \u001B[38;5;28missubclass\u001B[39m(values\u001B[38;5;241m.\u001B[39mdtype\u001B[38;5;241m.\u001B[39mtype, \u001B[38;5;28mstr\u001B[39m):\n",
      "File \u001B[0;32m~/ENV3/lib/python3.10/site-packages/pandas/core/dtypes/astype.py:151\u001B[0m, in \u001B[0;36mastype_nansafe\u001B[0;34m(arr, dtype, copy, skipna)\u001B[0m\n\u001B[1;32m    147\u001B[0m \u001B[38;5;28;01mif\u001B[39;00m is_datetime64_dtype(dtype):\n\u001B[1;32m    148\u001B[0m     \u001B[38;5;28;01mfrom\u001B[39;00m \u001B[38;5;21;01mpandas\u001B[39;00m \u001B[38;5;28;01mimport\u001B[39;00m to_datetime\n\u001B[1;32m    150\u001B[0m     \u001B[38;5;28;01mreturn\u001B[39;00m astype_nansafe(\n\u001B[0;32m--> 151\u001B[0m         \u001B[43mto_datetime\u001B[49m\u001B[43m(\u001B[49m\u001B[43marr\u001B[49m\u001B[38;5;241;43m.\u001B[39;49m\u001B[43mravel\u001B[49m\u001B[43m(\u001B[49m\u001B[43m)\u001B[49m\u001B[43m)\u001B[49m\u001B[38;5;241m.\u001B[39mvalues\u001B[38;5;241m.\u001B[39mreshape(arr\u001B[38;5;241m.\u001B[39mshape),\n\u001B[1;32m    152\u001B[0m         dtype,\n\u001B[1;32m    153\u001B[0m         copy\u001B[38;5;241m=\u001B[39mcopy,\n\u001B[1;32m    154\u001B[0m     )\n\u001B[1;32m    155\u001B[0m \u001B[38;5;28;01melif\u001B[39;00m is_timedelta64_dtype(dtype):\n\u001B[1;32m    156\u001B[0m     \u001B[38;5;66;03m# bc we know arr.dtype == object, this is equivalent to\u001B[39;00m\n\u001B[1;32m    157\u001B[0m     \u001B[38;5;66;03m#  `np.asarray(to_timedelta(arr))`, but using a lower-level API that\u001B[39;00m\n\u001B[1;32m    158\u001B[0m     \u001B[38;5;66;03m#  does not require a circular import.\u001B[39;00m\n\u001B[1;32m    159\u001B[0m     \u001B[38;5;28;01mreturn\u001B[39;00m array_to_timedelta64(arr)\u001B[38;5;241m.\u001B[39mview(\u001B[38;5;124m\"\u001B[39m\u001B[38;5;124mm8[ns]\u001B[39m\u001B[38;5;124m\"\u001B[39m)\u001B[38;5;241m.\u001B[39mastype(dtype, copy\u001B[38;5;241m=\u001B[39m\u001B[38;5;28;01mFalse\u001B[39;00m)\n",
      "File \u001B[0;32m~/ENV3/lib/python3.10/site-packages/pandas/core/tools/datetimes.py:1100\u001B[0m, in \u001B[0;36mto_datetime\u001B[0;34m(arg, errors, dayfirst, yearfirst, utc, format, exact, unit, infer_datetime_format, origin, cache)\u001B[0m\n\u001B[1;32m   1098\u001B[0m         result \u001B[38;5;241m=\u001B[39m _convert_and_box_cache(argc, cache_array)\n\u001B[1;32m   1099\u001B[0m     \u001B[38;5;28;01melse\u001B[39;00m:\n\u001B[0;32m-> 1100\u001B[0m         result \u001B[38;5;241m=\u001B[39m \u001B[43mconvert_listlike\u001B[49m\u001B[43m(\u001B[49m\u001B[43margc\u001B[49m\u001B[43m,\u001B[49m\u001B[43m \u001B[49m\u001B[38;5;28;43mformat\u001B[39;49m\u001B[43m)\u001B[49m\n\u001B[1;32m   1101\u001B[0m \u001B[38;5;28;01melse\u001B[39;00m:\n\u001B[1;32m   1102\u001B[0m     result \u001B[38;5;241m=\u001B[39m convert_listlike(np\u001B[38;5;241m.\u001B[39marray([arg]), \u001B[38;5;28mformat\u001B[39m)[\u001B[38;5;241m0\u001B[39m]\n",
      "File \u001B[0;32m~/ENV3/lib/python3.10/site-packages/pandas/core/tools/datetimes.py:438\u001B[0m, in \u001B[0;36m_convert_listlike_datetimes\u001B[0;34m(arg, format, name, tz, unit, errors, infer_datetime_format, dayfirst, yearfirst, exact)\u001B[0m\n\u001B[1;32m    436\u001B[0m \u001B[38;5;28;01massert\u001B[39;00m \u001B[38;5;28mformat\u001B[39m \u001B[38;5;129;01mis\u001B[39;00m \u001B[38;5;28;01mNone\u001B[39;00m \u001B[38;5;129;01mor\u001B[39;00m infer_datetime_format\n\u001B[1;32m    437\u001B[0m utc \u001B[38;5;241m=\u001B[39m tz \u001B[38;5;241m==\u001B[39m \u001B[38;5;124m\"\u001B[39m\u001B[38;5;124mutc\u001B[39m\u001B[38;5;124m\"\u001B[39m\n\u001B[0;32m--> 438\u001B[0m result, tz_parsed \u001B[38;5;241m=\u001B[39m \u001B[43mobjects_to_datetime64ns\u001B[49m\u001B[43m(\u001B[49m\n\u001B[1;32m    439\u001B[0m \u001B[43m    \u001B[49m\u001B[43marg\u001B[49m\u001B[43m,\u001B[49m\n\u001B[1;32m    440\u001B[0m \u001B[43m    \u001B[49m\u001B[43mdayfirst\u001B[49m\u001B[38;5;241;43m=\u001B[39;49m\u001B[43mdayfirst\u001B[49m\u001B[43m,\u001B[49m\n\u001B[1;32m    441\u001B[0m \u001B[43m    \u001B[49m\u001B[43myearfirst\u001B[49m\u001B[38;5;241;43m=\u001B[39;49m\u001B[43myearfirst\u001B[49m\u001B[43m,\u001B[49m\n\u001B[1;32m    442\u001B[0m \u001B[43m    \u001B[49m\u001B[43mutc\u001B[49m\u001B[38;5;241;43m=\u001B[39;49m\u001B[43mutc\u001B[49m\u001B[43m,\u001B[49m\n\u001B[1;32m    443\u001B[0m \u001B[43m    \u001B[49m\u001B[43merrors\u001B[49m\u001B[38;5;241;43m=\u001B[39;49m\u001B[43merrors\u001B[49m\u001B[43m,\u001B[49m\n\u001B[1;32m    444\u001B[0m \u001B[43m    \u001B[49m\u001B[43mrequire_iso8601\u001B[49m\u001B[38;5;241;43m=\u001B[39;49m\u001B[43mrequire_iso8601\u001B[49m\u001B[43m,\u001B[49m\n\u001B[1;32m    445\u001B[0m \u001B[43m    \u001B[49m\u001B[43mallow_object\u001B[49m\u001B[38;5;241;43m=\u001B[39;49m\u001B[38;5;28;43;01mTrue\u001B[39;49;00m\u001B[43m,\u001B[49m\n\u001B[1;32m    446\u001B[0m \u001B[43m\u001B[49m\u001B[43m)\u001B[49m\n\u001B[1;32m    448\u001B[0m \u001B[38;5;28;01mif\u001B[39;00m tz_parsed \u001B[38;5;129;01mis\u001B[39;00m \u001B[38;5;129;01mnot\u001B[39;00m \u001B[38;5;28;01mNone\u001B[39;00m:\n\u001B[1;32m    449\u001B[0m     \u001B[38;5;66;03m# We can take a shortcut since the datetime64 numpy array\u001B[39;00m\n\u001B[1;32m    450\u001B[0m     \u001B[38;5;66;03m# is in UTC\u001B[39;00m\n\u001B[1;32m    451\u001B[0m     dta \u001B[38;5;241m=\u001B[39m DatetimeArray(result, dtype\u001B[38;5;241m=\u001B[39mtz_to_dtype(tz_parsed))\n",
      "File \u001B[0;32m~/ENV3/lib/python3.10/site-packages/pandas/core/arrays/datetimes.py:2177\u001B[0m, in \u001B[0;36mobjects_to_datetime64ns\u001B[0;34m(data, dayfirst, yearfirst, utc, errors, require_iso8601, allow_object, allow_mixed)\u001B[0m\n\u001B[1;32m   2175\u001B[0m order: Literal[\u001B[38;5;124m\"\u001B[39m\u001B[38;5;124mF\u001B[39m\u001B[38;5;124m\"\u001B[39m, \u001B[38;5;124m\"\u001B[39m\u001B[38;5;124mC\u001B[39m\u001B[38;5;124m\"\u001B[39m] \u001B[38;5;241m=\u001B[39m \u001B[38;5;124m\"\u001B[39m\u001B[38;5;124mF\u001B[39m\u001B[38;5;124m\"\u001B[39m \u001B[38;5;28;01mif\u001B[39;00m flags\u001B[38;5;241m.\u001B[39mf_contiguous \u001B[38;5;28;01melse\u001B[39;00m \u001B[38;5;124m\"\u001B[39m\u001B[38;5;124mC\u001B[39m\u001B[38;5;124m\"\u001B[39m\n\u001B[1;32m   2176\u001B[0m \u001B[38;5;28;01mtry\u001B[39;00m:\n\u001B[0;32m-> 2177\u001B[0m     result, tz_parsed \u001B[38;5;241m=\u001B[39m \u001B[43mtslib\u001B[49m\u001B[38;5;241;43m.\u001B[39;49m\u001B[43marray_to_datetime\u001B[49m\u001B[43m(\u001B[49m\n\u001B[1;32m   2178\u001B[0m \u001B[43m        \u001B[49m\u001B[43mdata\u001B[49m\u001B[38;5;241;43m.\u001B[39;49m\u001B[43mravel\u001B[49m\u001B[43m(\u001B[49m\u001B[38;5;124;43m\"\u001B[39;49m\u001B[38;5;124;43mK\u001B[39;49m\u001B[38;5;124;43m\"\u001B[39;49m\u001B[43m)\u001B[49m\u001B[43m,\u001B[49m\n\u001B[1;32m   2179\u001B[0m \u001B[43m        \u001B[49m\u001B[43merrors\u001B[49m\u001B[38;5;241;43m=\u001B[39;49m\u001B[43merrors\u001B[49m\u001B[43m,\u001B[49m\n\u001B[1;32m   2180\u001B[0m \u001B[43m        \u001B[49m\u001B[43mutc\u001B[49m\u001B[38;5;241;43m=\u001B[39;49m\u001B[43mutc\u001B[49m\u001B[43m,\u001B[49m\n\u001B[1;32m   2181\u001B[0m \u001B[43m        \u001B[49m\u001B[43mdayfirst\u001B[49m\u001B[38;5;241;43m=\u001B[39;49m\u001B[43mdayfirst\u001B[49m\u001B[43m,\u001B[49m\n\u001B[1;32m   2182\u001B[0m \u001B[43m        \u001B[49m\u001B[43myearfirst\u001B[49m\u001B[38;5;241;43m=\u001B[39;49m\u001B[43myearfirst\u001B[49m\u001B[43m,\u001B[49m\n\u001B[1;32m   2183\u001B[0m \u001B[43m        \u001B[49m\u001B[43mrequire_iso8601\u001B[49m\u001B[38;5;241;43m=\u001B[39;49m\u001B[43mrequire_iso8601\u001B[49m\u001B[43m,\u001B[49m\n\u001B[1;32m   2184\u001B[0m \u001B[43m        \u001B[49m\u001B[43mallow_mixed\u001B[49m\u001B[38;5;241;43m=\u001B[39;49m\u001B[43mallow_mixed\u001B[49m\u001B[43m,\u001B[49m\n\u001B[1;32m   2185\u001B[0m \u001B[43m    \u001B[49m\u001B[43m)\u001B[49m\n\u001B[1;32m   2186\u001B[0m     result \u001B[38;5;241m=\u001B[39m result\u001B[38;5;241m.\u001B[39mreshape(data\u001B[38;5;241m.\u001B[39mshape, order\u001B[38;5;241m=\u001B[39morder)\n\u001B[1;32m   2187\u001B[0m \u001B[38;5;28;01mexcept\u001B[39;00m \u001B[38;5;167;01mOverflowError\u001B[39;00m \u001B[38;5;28;01mas\u001B[39;00m err:\n\u001B[1;32m   2188\u001B[0m     \u001B[38;5;66;03m# Exception is raised when a part of date is greater than 32 bit signed int\u001B[39;00m\n",
      "File \u001B[0;32m~/ENV3/lib/python3.10/site-packages/pandas/_libs/tslib.pyx:427\u001B[0m, in \u001B[0;36mpandas._libs.tslib.array_to_datetime\u001B[0;34m()\u001B[0m\n",
      "File \u001B[0;32m~/ENV3/lib/python3.10/site-packages/pandas/_libs/tslib.pyx:683\u001B[0m, in \u001B[0;36mpandas._libs.tslib.array_to_datetime\u001B[0;34m()\u001B[0m\n",
      "File \u001B[0;32m~/ENV3/lib/python3.10/site-packages/pandas/_libs/tslib.pyx:829\u001B[0m, in \u001B[0;36mpandas._libs.tslib._array_to_datetime_object\u001B[0;34m()\u001B[0m\n",
      "File \u001B[0;32m~/ENV3/lib/python3.10/site-packages/pandas/_libs/tslib.pyx:819\u001B[0m, in \u001B[0;36mpandas._libs.tslib._array_to_datetime_object\u001B[0;34m()\u001B[0m\n",
      "File \u001B[0;32m~/ENV3/lib/python3.10/site-packages/pandas/_libs/tslibs/parsing.pyx:320\u001B[0m, in \u001B[0;36mpandas._libs.tslibs.parsing.parse_datetime_string\u001B[0;34m()\u001B[0m\n",
      "File \u001B[0;32m~/ENV3/lib/python3.10/site-packages/dateutil/parser/_parser.py:1368\u001B[0m, in \u001B[0;36mparse\u001B[0;34m(timestr, parserinfo, **kwargs)\u001B[0m\n\u001B[1;32m   1366\u001B[0m     \u001B[38;5;28;01mreturn\u001B[39;00m parser(parserinfo)\u001B[38;5;241m.\u001B[39mparse(timestr, \u001B[38;5;241m*\u001B[39m\u001B[38;5;241m*\u001B[39mkwargs)\n\u001B[1;32m   1367\u001B[0m \u001B[38;5;28;01melse\u001B[39;00m:\n\u001B[0;32m-> 1368\u001B[0m     \u001B[38;5;28;01mreturn\u001B[39;00m \u001B[43mDEFAULTPARSER\u001B[49m\u001B[38;5;241;43m.\u001B[39;49m\u001B[43mparse\u001B[49m\u001B[43m(\u001B[49m\u001B[43mtimestr\u001B[49m\u001B[43m,\u001B[49m\u001B[43m \u001B[49m\u001B[38;5;241;43m*\u001B[39;49m\u001B[38;5;241;43m*\u001B[39;49m\u001B[43mkwargs\u001B[49m\u001B[43m)\u001B[49m\n",
      "File \u001B[0;32m~/ENV3/lib/python3.10/site-packages/dateutil/parser/_parser.py:643\u001B[0m, in \u001B[0;36mparser.parse\u001B[0;34m(self, timestr, default, ignoretz, tzinfos, **kwargs)\u001B[0m\n\u001B[1;32m    640\u001B[0m res, skipped_tokens \u001B[38;5;241m=\u001B[39m \u001B[38;5;28mself\u001B[39m\u001B[38;5;241m.\u001B[39m_parse(timestr, \u001B[38;5;241m*\u001B[39m\u001B[38;5;241m*\u001B[39mkwargs)\n\u001B[1;32m    642\u001B[0m \u001B[38;5;28;01mif\u001B[39;00m res \u001B[38;5;129;01mis\u001B[39;00m \u001B[38;5;28;01mNone\u001B[39;00m:\n\u001B[0;32m--> 643\u001B[0m     \u001B[38;5;28;01mraise\u001B[39;00m ParserError(\u001B[38;5;124m\"\u001B[39m\u001B[38;5;124mUnknown string format: \u001B[39m\u001B[38;5;132;01m%s\u001B[39;00m\u001B[38;5;124m\"\u001B[39m, timestr)\n\u001B[1;32m    645\u001B[0m \u001B[38;5;28;01mif\u001B[39;00m \u001B[38;5;28mlen\u001B[39m(res) \u001B[38;5;241m==\u001B[39m \u001B[38;5;241m0\u001B[39m:\n\u001B[1;32m    646\u001B[0m     \u001B[38;5;28;01mraise\u001B[39;00m ParserError(\u001B[38;5;124m\"\u001B[39m\u001B[38;5;124mString does not contain a date: \u001B[39m\u001B[38;5;132;01m%s\u001B[39;00m\u001B[38;5;124m\"\u001B[39m, timestr)\n",
      "\u001B[0;31mParserError\u001B[0m: Unknown string format: 2022-12-21:12:55:22.564333 present at position 0"
     ]
    },
    {
     "data": {
      "text/plain": "<Figure size 640x480 with 1 Axes>",
      "image/png": "[encoded data removed]"
     },
     "metadata": {},
     "output_type": "display_data"
    }
   ],
   "source": [
    "list_of_filenames = [('./data/card_name_a100_gpu_count_1_cpu_num_6_mem_32GB_repeat_1_TFTTransformerepochs_2/gpu0.log', 2),\n",
    "                     ('./data/card_name_a100_gpu_count_1_cpu_num_6_mem_32GB_repeat_1_TFTTransformerepochs_30/gpu0.log', 30),\n",
    "                     ('./data/card_name_a100_gpu_count_1_cpu_num_6_mem_32GB_repeat_1_TFTTransformerepochs_70/gpu0.log', 70)]\n",
    "\n",
    "for filename, epoch in list_of_filenames:\n",
    "   fig, ax = plt.subplots()\n",
    "   df = read_energy(filename)\n",
    "   convert_colum_to_seconds(df, \"time\")\n",
    "   label = f'Epoch {epoch}'\n",
    "   df.rename(columns = {'0 power_draw W':label}, inplace=True)\n",
    "   energy = df[['time', label]]\n",
    "   sns.lineplot(energy)\n",
    "   export_figure(filename=filename)\n",
    "   plt.show()\n",
    "   display(df)\n",
    "   print (type(df[['time']].iloc[0]))"
   ],
   "metadata": {
    "collapsed": false
   }
  },
  {
   "cell_type": "code",
   "execution_count": 4,
   "outputs": [],
   "source": [],
   "metadata": {
    "collapsed": false
   }
  },
  {
   "cell_type": "code",
   "execution_count": 5,
   "outputs": [
    {
     "name": "stdout",
     "output_type": "stream",
     "text": [
      "/home/green/Desktop/github/mlcommons/benchmarks/earthquake/analysis/energy/data/card_name_a100_gpu_count_1_cpu_num_6_mem_32GB_repeat_1_TFTTransformerepochs_2/dje5dj-45737981.err\n"
     ]
    }
   ],
   "source": [
    "err_dir_path = Shell.map_filename(\n",
    "    './data/card_name_a100_gpu_count_1_cpu_num_6_mem_32GB_repeat_1_TFTTransformerepochs_2/'\n",
    ").path\n",
    "full_dir_path = None\n",
    "\n",
    "for file in os.listdir(err_dir_path):\n",
    "   if file.endswith(\".err\"):\n",
    "      print(os.path.join(err_dir_path, file))\n",
    "      full_dir_path = os.path.join(err_dir_path, file)"
   ],
   "metadata": {
    "collapsed": false
   }
  },
  {
   "cell_type": "code",
   "execution_count": 38,
   "outputs": [],
   "source": [
    "content = readfile(full_dir_path, encoding='utf-8')\n",
    "content = content.replace(', ', ',').splitlines()\n",
    "\n",
    "# headline = '# csv,timer,status,time,sum,start,tag,msg,uname.node,user,uname.system,platform.version'\n",
    "headline = Shell.cm_grep(content, '# csv,timer')[0]\n",
    "csv_lines = Shell.cm_grep(content, '# csv')\n",
    "csv_lines = Shell.cm_grep(csv_lines, 'Linux')\n",
    "csv_lines.insert(0, headline)\n",
    "# print(\"\\n\".join(csv_lines))\n",
    "content = \"\\n\".join(csv_lines)\n",
    "timer_df = pd.read_csv(io.StringIO(content),sep=',')"
   ],
   "metadata": {
    "collapsed": false
   }
  },
  {
   "cell_type": "code",
   "execution_count": 53,
   "outputs": [
    {
     "name": "stdout",
     "output_type": "stream",
     "text": [
      "t   2022-12-21 17:55:33\n",
      "Name: 0, dtype: datetime64[ns] <class 'pandas.core.series.Series'>\n"
     ]
    },
    {
     "data": {
      "text/plain": "                                                 timer      time  \\\n0                                                total      None   \n1                                                total  9876.208   \n2                                                 INIT     2.261   \n3                                                 EVAL   409.961   \n4                                                PLOTS   385.099   \n..                                                 ...       ...   \n224  RunTFTCustomVersion DLResults Graph Title even...       0.0   \n225  RunTFTCustomVersion DLResults Graph Title even...       0.0   \n226  RunTFTCustomVersion DLResults Graph Title even...       0.0   \n227  RunTFTCustomVersion DLResults Graph Title even...       0.0   \n228  RunTFTCustomVersion bestfit finalize Visualize...       0.0   \n\n                   start     tag       t  \n0    2022-12-21 17:55:33  TIMER1     0.0  \n1    2022-12-21 17:55:33  TIMER2     0.0  \n2    2022-12-21 17:55:48  TIMER2    15.0  \n3    2022-12-21 17:55:51  TIMER2    18.0  \n4    2022-12-21 17:55:51  TIMER2    18.0  \n..                   ...     ...     ...  \n224  2022-12-21 20:40:06  TIMER2  9873.0  \n225  2022-12-21 20:40:06  TIMER2  9873.0  \n226  2022-12-21 20:40:07  TIMER2  9874.0  \n227  2022-12-21 20:40:07  TIMER2  9874.0  \n228  2022-12-21 20:40:08  TIMER2  9875.0  \n\n[229 rows x 5 columns]",
      "text/html": "<div>\n<style scoped>\n    .dataframe tbody tr th:only-of-type {\n        vertical-align: middle;\n    }\n\n    .dataframe tbody tr th {\n        vertical-align: top;\n    }\n\n    .dataframe thead th {\n        text-align: right;\n    }\n</style>\n<table border=\"1\" class=\"dataframe\">\n  <thead>\n    <tr style=\"text-align: right;\">\n      <th></th>\n      <th>timer</th>\n      <th>time</th>\n      <th>start</th>\n      <th>tag</th>\n      <th>t</th>\n    </tr>\n  </thead>\n  <tbody>\n    <tr>\n      <th>0</th>\n      <td>total</td>\n      <td>None</td>\n      <td>2022-12-21 17:55:33</td>\n      <td>TIMER1</td>\n      <td>0.0</td>\n    </tr>\n    <tr>\n      <th>1</th>\n      <td>total</td>\n      <td>9876.208</td>\n      <td>2022-12-21 17:55:33</td>\n      <td>TIMER2</td>\n      <td>0.0</td>\n    </tr>\n    <tr>\n      <th>2</th>\n      <td>INIT</td>\n      <td>2.261</td>\n      <td>2022-12-21 17:55:48</td>\n      <td>TIMER2</td>\n      <td>15.0</td>\n    </tr>\n    <tr>\n      <th>3</th>\n      <td>EVAL</td>\n      <td>409.961</td>\n      <td>2022-12-21 17:55:51</td>\n      <td>TIMER2</td>\n      <td>18.0</td>\n    </tr>\n    <tr>\n      <th>4</th>\n      <td>PLOTS</td>\n      <td>385.099</td>\n      <td>2022-12-21 17:55:51</td>\n      <td>TIMER2</td>\n      <td>18.0</td>\n    </tr>\n    <tr>\n      <th>...</th>\n      <td>...</td>\n      <td>...</td>\n      <td>...</td>\n      <td>...</td>\n      <td>...</td>\n    </tr>\n    <tr>\n      <th>224</th>\n      <td>RunTFTCustomVersion DLResults Graph Title even...</td>\n      <td>0.0</td>\n      <td>2022-12-21 20:40:06</td>\n      <td>TIMER2</td>\n      <td>9873.0</td>\n    </tr>\n    <tr>\n      <th>225</th>\n      <td>RunTFTCustomVersion DLResults Graph Title even...</td>\n      <td>0.0</td>\n      <td>2022-12-21 20:40:06</td>\n      <td>TIMER2</td>\n      <td>9873.0</td>\n    </tr>\n    <tr>\n      <th>226</th>\n      <td>RunTFTCustomVersion DLResults Graph Title even...</td>\n      <td>0.0</td>\n      <td>2022-12-21 20:40:07</td>\n      <td>TIMER2</td>\n      <td>9874.0</td>\n    </tr>\n    <tr>\n      <th>227</th>\n      <td>RunTFTCustomVersion DLResults Graph Title even...</td>\n      <td>0.0</td>\n      <td>2022-12-21 20:40:07</td>\n      <td>TIMER2</td>\n      <td>9874.0</td>\n    </tr>\n    <tr>\n      <th>228</th>\n      <td>RunTFTCustomVersion bestfit finalize Visualize...</td>\n      <td>0.0</td>\n      <td>2022-12-21 20:40:08</td>\n      <td>TIMER2</td>\n      <td>9875.0</td>\n    </tr>\n  </tbody>\n</table>\n<p>229 rows × 5 columns</p>\n</div>"
     },
     "execution_count": 53,
     "metadata": {},
     "output_type": "execute_result"
    }
   ],
   "source": [
    "df2 = timer_df.drop(columns=['# csv', 'status', 'sum', 'uname.node', 'user', 'uname.system', 'platform.version', 'msg'])\n",
    "df2[[\"t\"]] = df2[[\"start\"]].astype('datetime64')\n",
    "start_t = df2[[\"t\"]].iloc[0]\n",
    "print (start_t, type(start_t))\n",
    "df2[[\"t\"]] = df2[[\"t\"]] - start_t\n",
    "df2[[\"t\"]] = df2[[\"t\"]].astype(int)/1000000000\n",
    "df2\n",
    "\n",
    "# to do- there are two totals. if time == None then drop the row"
   ],
   "metadata": {
    "collapsed": false
   }
  },
  {
   "cell_type": "code",
   "execution_count": 16,
   "outputs": [
    {
     "data": {
      "text/plain": "Index(['timer', 'time', 'start', 'tag'], dtype='object')"
     },
     "execution_count": 16,
     "metadata": {},
     "output_type": "execute_result"
    }
   ],
   "source": [
    "df2.keys()"
   ],
   "metadata": {
    "collapsed": false
   }
  },
  {
   "cell_type": "code",
   "execution_count": 17,
   "outputs": [
    {
     "data": {
      "text/plain": "  timer   time                start     tag\n2  INIT  2.261  2022-12-21 17:55:48  TIMER2",
      "text/html": "<div>\n<style scoped>\n    .dataframe tbody tr th:only-of-type {\n        vertical-align: middle;\n    }\n\n    .dataframe tbody tr th {\n        vertical-align: top;\n    }\n\n    .dataframe thead th {\n        text-align: right;\n    }\n</style>\n<table border=\"1\" class=\"dataframe\">\n  <thead>\n    <tr style=\"text-align: right;\">\n      <th></th>\n      <th>timer</th>\n      <th>time</th>\n      <th>start</th>\n      <th>tag</th>\n    </tr>\n  </thead>\n  <tbody>\n    <tr>\n      <th>2</th>\n      <td>INIT</td>\n      <td>2.261</td>\n      <td>2022-12-21 17:55:48</td>\n      <td>TIMER2</td>\n    </tr>\n  </tbody>\n</table>\n</div>"
     },
     "execution_count": 17,
     "metadata": {},
     "output_type": "execute_result"
    }
   ],
   "source": [
    "df2.loc[df2['timer'] == 'INIT']"
   ],
   "metadata": {
    "collapsed": false
   }
  },
  {
   "cell_type": "code",
   "execution_count": 18,
   "outputs": [
    {
     "data": {
      "text/plain": "                        timer time                start     tag\n23  PLOTTED_EARTHQUAKE_IMAGES  0.0  2022-12-21 18:02:16  TIMER2",
      "text/html": "<div>\n<style scoped>\n    .dataframe tbody tr th:only-of-type {\n        vertical-align: middle;\n    }\n\n    .dataframe tbody tr th {\n        vertical-align: top;\n    }\n\n    .dataframe thead th {\n        text-align: right;\n    }\n</style>\n<table border=\"1\" class=\"dataframe\">\n  <thead>\n    <tr style=\"text-align: right;\">\n      <th></th>\n      <th>timer</th>\n      <th>time</th>\n      <th>start</th>\n      <th>tag</th>\n    </tr>\n  </thead>\n  <tbody>\n    <tr>\n      <th>23</th>\n      <td>PLOTTED_EARTHQUAKE_IMAGES</td>\n      <td>0.0</td>\n      <td>2022-12-21 18:02:16</td>\n      <td>TIMER2</td>\n    </tr>\n  </tbody>\n</table>\n</div>"
     },
     "execution_count": 18,
     "metadata": {},
     "output_type": "execute_result"
    }
   ],
   "source": [
    "df2.loc[df2['timer'] == 'PLOTTED_EARTHQUAKE_IMAGES']"
   ],
   "metadata": {
    "collapsed": false
   }
  },
  {
   "cell_type": "code",
   "execution_count": 19,
   "outputs": [
    {
     "data": {
      "text/plain": "               timer time                start     tag\n24  Predicted_Data_0  0.0  2022-12-21 18:02:54  TIMER2",
      "text/html": "<div>\n<style scoped>\n    .dataframe tbody tr th:only-of-type {\n        vertical-align: middle;\n    }\n\n    .dataframe tbody tr th {\n        vertical-align: top;\n    }\n\n    .dataframe thead th {\n        text-align: right;\n    }\n</style>\n<table border=\"1\" class=\"dataframe\">\n  <thead>\n    <tr style=\"text-align: right;\">\n      <th></th>\n      <th>timer</th>\n      <th>time</th>\n      <th>start</th>\n      <th>tag</th>\n    </tr>\n  </thead>\n  <tbody>\n    <tr>\n      <th>24</th>\n      <td>Predicted_Data_0</td>\n      <td>0.0</td>\n      <td>2022-12-21 18:02:54</td>\n      <td>TIMER2</td>\n    </tr>\n  </tbody>\n</table>\n</div>"
     },
     "execution_count": 19,
     "metadata": {},
     "output_type": "execute_result"
    }
   ],
   "source": [
    "df2.loc[df2['timer'] == 'Predicted_Data_0']"
   ],
   "metadata": {
    "collapsed": false
   }
  },
  {
   "cell_type": "code",
   "execution_count": 20,
   "outputs": [
    {
     "data": {
      "text/plain": "                  timer time                start     tag\n127  Predicted_Data_103  0.0  2022-12-21 18:02:55  TIMER2",
      "text/html": "<div>\n<style scoped>\n    .dataframe tbody tr th:only-of-type {\n        vertical-align: middle;\n    }\n\n    .dataframe tbody tr th {\n        vertical-align: top;\n    }\n\n    .dataframe thead th {\n        text-align: right;\n    }\n</style>\n<table border=\"1\" class=\"dataframe\">\n  <thead>\n    <tr style=\"text-align: right;\">\n      <th></th>\n      <th>timer</th>\n      <th>time</th>\n      <th>start</th>\n      <th>tag</th>\n    </tr>\n  </thead>\n  <tbody>\n    <tr>\n      <th>127</th>\n      <td>Predicted_Data_103</td>\n      <td>0.0</td>\n      <td>2022-12-21 18:02:55</td>\n      <td>TIMER2</td>\n    </tr>\n  </tbody>\n</table>\n</div>"
     },
     "execution_count": 20,
     "metadata": {},
     "output_type": "execute_result"
    }
   ],
   "source": [
    "df2.loc[df2['timer'] == 'Predicted_Data_103']"
   ],
   "metadata": {
    "collapsed": false
   }
  },
  {
   "cell_type": "code",
   "execution_count": 21,
   "outputs": [
    {
     "data": {
      "text/plain": "                            timer  time                start     tag\n133  RunTFTCustomVersion tft only  0.01  2022-12-21 18:23:07  TIMER2",
      "text/html": "<div>\n<style scoped>\n    .dataframe tbody tr th:only-of-type {\n        vertical-align: middle;\n    }\n\n    .dataframe tbody tr th {\n        vertical-align: top;\n    }\n\n    .dataframe thead th {\n        text-align: right;\n    }\n</style>\n<table border=\"1\" class=\"dataframe\">\n  <thead>\n    <tr style=\"text-align: right;\">\n      <th></th>\n      <th>timer</th>\n      <th>time</th>\n      <th>start</th>\n      <th>tag</th>\n    </tr>\n  </thead>\n  <tbody>\n    <tr>\n      <th>133</th>\n      <td>RunTFTCustomVersion tft only</td>\n      <td>0.01</td>\n      <td>2022-12-21 18:23:07</td>\n      <td>TIMER2</td>\n    </tr>\n  </tbody>\n</table>\n</div>"
     },
     "execution_count": 21,
     "metadata": {},
     "output_type": "execute_result"
    }
   ],
   "source": [
    "df2.loc[df2['timer'] == 'RunTFTCustomVersion tft only']"
   ],
   "metadata": {
    "collapsed": false
   }
  },
  {
   "cell_type": "code",
   "execution_count": 26,
   "outputs": [],
   "source": [
    "def plot_energy(filename, epoch):\n",
    "    df = read_energy(filename)\n",
    "    label = f'Epoch {epoch}'\n",
    "    df.rename(columns = {'0 power_draw W':label}, inplace=True)\n",
    "    energy = df[['time', label]]\n",
    "    # display(energy)\n",
    "\n",
    "    ax = sns.lineplot(energy)\n",
    "    # export_figure('Time', 'Energy', filename)\n",
    "    return ax"
   ],
   "metadata": {
    "collapsed": false
   }
  },
  {
   "cell_type": "code",
   "execution_count": 27,
   "outputs": [
    {
     "data": {
      "text/plain": "<Figure size 640x480 with 1 Axes>",
      "image/png": "[encoded data removed]"
     },
     "metadata": {},
     "output_type": "display_data"
    }
   ],
   "source": [
    "read_energy('./data/card_name_a100_gpu_count_1_cpu_num_6_mem_32GB_repeat_1_TFTTransformerepochs_2/gpu0.log')\n",
    "ax = plot_energy('./data/card_name_a100_gpu_count_1_cpu_num_6_mem_32GB_repeat_1_TFTTransformerepochs_2/gpu0.log', 2)\n"
   ],
   "metadata": {
    "collapsed": false
   }
  },
  {
   "cell_type": "code",
   "execution_count": 24,
   "outputs": [
    {
     "data": {
      "text/plain": "                                                 timer      time  \\\n0                                                total      None   \n1                                                total  9876.208   \n2                                                 INIT     2.261   \n3                                                 EVAL   409.961   \n4                                                PLOTS   385.099   \n..                                                 ...       ...   \n224  RunTFTCustomVersion DLResults Graph Title even...       0.0   \n225  RunTFTCustomVersion DLResults Graph Title even...       0.0   \n226  RunTFTCustomVersion DLResults Graph Title even...       0.0   \n227  RunTFTCustomVersion DLResults Graph Title even...       0.0   \n228  RunTFTCustomVersion bestfit finalize Visualize...       0.0   \n\n                   start     tag  \n0    2022-12-21 17:55:33  TIMER1  \n1    2022-12-21 17:55:33  TIMER2  \n2    2022-12-21 17:55:48  TIMER2  \n3    2022-12-21 17:55:51  TIMER2  \n4    2022-12-21 17:55:51  TIMER2  \n..                   ...     ...  \n224  2022-12-21 20:40:06  TIMER2  \n225  2022-12-21 20:40:06  TIMER2  \n226  2022-12-21 20:40:07  TIMER2  \n227  2022-12-21 20:40:07  TIMER2  \n228  2022-12-21 20:40:08  TIMER2  \n\n[229 rows x 4 columns]",
      "text/html": "<div>\n<style scoped>\n    .dataframe tbody tr th:only-of-type {\n        vertical-align: middle;\n    }\n\n    .dataframe tbody tr th {\n        vertical-align: top;\n    }\n\n    .dataframe thead th {\n        text-align: right;\n    }\n</style>\n<table border=\"1\" class=\"dataframe\">\n  <thead>\n    <tr style=\"text-align: right;\">\n      <th></th>\n      <th>timer</th>\n      <th>time</th>\n      <th>start</th>\n      <th>tag</th>\n    </tr>\n  </thead>\n  <tbody>\n    <tr>\n      <th>0</th>\n      <td>total</td>\n      <td>None</td>\n      <td>2022-12-21 17:55:33</td>\n      <td>TIMER1</td>\n    </tr>\n    <tr>\n      <th>1</th>\n      <td>total</td>\n      <td>9876.208</td>\n      <td>2022-12-21 17:55:33</td>\n      <td>TIMER2</td>\n    </tr>\n    <tr>\n      <th>2</th>\n      <td>INIT</td>\n      <td>2.261</td>\n      <td>2022-12-21 17:55:48</td>\n      <td>TIMER2</td>\n    </tr>\n    <tr>\n      <th>3</th>\n      <td>EVAL</td>\n      <td>409.961</td>\n      <td>2022-12-21 17:55:51</td>\n      <td>TIMER2</td>\n    </tr>\n    <tr>\n      <th>4</th>\n      <td>PLOTS</td>\n      <td>385.099</td>\n      <td>2022-12-21 17:55:51</td>\n      <td>TIMER2</td>\n    </tr>\n    <tr>\n      <th>...</th>\n      <td>...</td>\n      <td>...</td>\n      <td>...</td>\n      <td>...</td>\n    </tr>\n    <tr>\n      <th>224</th>\n      <td>RunTFTCustomVersion DLResults Graph Title even...</td>\n      <td>0.0</td>\n      <td>2022-12-21 20:40:06</td>\n      <td>TIMER2</td>\n    </tr>\n    <tr>\n      <th>225</th>\n      <td>RunTFTCustomVersion DLResults Graph Title even...</td>\n      <td>0.0</td>\n      <td>2022-12-21 20:40:06</td>\n      <td>TIMER2</td>\n    </tr>\n    <tr>\n      <th>226</th>\n      <td>RunTFTCustomVersion DLResults Graph Title even...</td>\n      <td>0.0</td>\n      <td>2022-12-21 20:40:07</td>\n      <td>TIMER2</td>\n    </tr>\n    <tr>\n      <th>227</th>\n      <td>RunTFTCustomVersion DLResults Graph Title even...</td>\n      <td>0.0</td>\n      <td>2022-12-21 20:40:07</td>\n      <td>TIMER2</td>\n    </tr>\n    <tr>\n      <th>228</th>\n      <td>RunTFTCustomVersion bestfit finalize Visualize...</td>\n      <td>0.0</td>\n      <td>2022-12-21 20:40:08</td>\n      <td>TIMER2</td>\n    </tr>\n  </tbody>\n</table>\n<p>229 rows × 4 columns</p>\n</div>"
     },
     "execution_count": 24,
     "metadata": {},
     "output_type": "execute_result"
    }
   ],
   "source": [
    "df2"
   ],
   "metadata": {
    "collapsed": false
   }
  },
  {
   "cell_type": "code",
   "execution_count": 31,
   "outputs": [
    {
     "name": "stdout",
     "output_type": "stream",
     "text": [
      "2022-12-21 17:55:48 <class 'str'> 180 <class 'int'> INIT <class 'str'>\n",
      "2022-12-21 18:03:00 <class 'str'> 180 <class 'int'> data head setup <class 'str'>\n",
      "2022-12-21 18:23:08 <class 'str'> 180 <class 'int'> RunTFTCustomVersion A <class 'str'>\n",
      "2022-12-21 20:35:54 <class 'str'> 180 <class 'int'> DLprediction Iteration <class 'str'>\n",
      "2022-12-21 20:39:25 <class 'str'> 180 <class 'int'> DLResults_Graphs timer_num:0 <class 'str'>\n",
      "2022-12-21 20:40:08 <class 'str'> 180 <class 'int'> RunTFTCustomVersion bestfit finalize VisualizeTFT event_num:0 <class 'str'>\n"
     ]
    }
   ],
   "source": [
    "poi = ['INIT',\n",
    "       'data head setup',\n",
    "       'RunTFTCustomVersion A',\n",
    "       'RunTFTCustomVersion bestfit Epoch:0',\n",
    "       'RunTFTCustomVersion bestfit finalize',\n",
    "       'DLprediction Iteration',\n",
    "       'DLResults_Graphs timer_num:0',\n",
    "       'RunTFTCustomVersion bestfit finalize VisualizeTFT event_num:0']\n",
    "\n",
    "for i, row in df2.iterrows():\n",
    "   label = row['timer']\n",
    "   if label in poi:\n",
    "      # print(row['timer'], row['start'])\n",
    "      x = row['start']\n",
    "      y = 180\n",
    "      print(x, type(x), y, type(y), label, type(label))\n",
    "      #ax.text(x, y, label)\n",
    "      #ax.plot(x, y)\n",
    "plt.show()"
   ],
   "metadata": {
    "collapsed": false
   }
  },
  {
   "cell_type": "code",
   "execution_count": null,
   "outputs": [],
   "source": [],
   "metadata": {
    "collapsed": false,
    "pycharm": {
     "is_executing": true
    }
   }
  },
  {
   "cell_type": "code",
   "execution_count": 25,
   "outputs": [],
   "source": [],
   "metadata": {
    "collapsed": false
   }
  }
 ],
 "metadata": {
  "kernelspec": {
   "display_name": "Python 3",
   "language": "python",
   "name": "python3"
  },
  "language_info": {
   "codemirror_mode": {
    "name": "ipython",
    "version": 2
   },
   "file_extension": ".py",
   "mimetype": "text/x-python",
   "name": "python",
   "nbconvert_exporter": "python",
   "pygments_lexer": "ipython2",
   "version": "2.7.6"
  }
 },
 "nbformat": 4,
 "nbformat_minor": 0
}
