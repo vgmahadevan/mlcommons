{
 "cells": [
  {
   "cell_type": "code",
   "execution_count": 1,
   "metadata": {
    "collapsed": true
   },
   "outputs": [],
   "source": [
    "from cloudmesh.common.Shell import Shell\n",
    "from cloudmesh.common.util import readfile\n",
    "import sys\n",
    "import pandas as pd\n",
    "import io\n",
    "import seaborn as sns\n",
    "import matplotlib.pyplot as plt\n",
    "import os\n",
    "from pathlib import Path\n",
    "import glob\n",
    "from pprint import pprint\n",
    "from cloudmesh.common.dotdict import dotdict"
   ]
  },
  {
   "cell_type": "code",
   "execution_count": 2,
   "outputs": [],
   "source": [
    "list_of_dirs = [\n",
    "    ('./data/card_name_a100_gpu_count_1_cpu_num_6_mem_32GB_repeat_1_TFTTransformerepochs_2', 2),\n",
    "    ('./data/card_name_a100_gpu_count_1_cpu_num_6_mem_32GB_repeat_1_TFTTransformerepochs_30', 30),\n",
    "    ('./data/card_name_a100_gpu_count_1_cpu_num_6_mem_32GB_repeat_1_TFTTransformerepochs_70', 70)]\n"
   ],
   "metadata": {
    "collapsed": false
   }
  },
  {
   "cell_type": "code",
   "execution_count": 3,
   "outputs": [
    {
     "name": "stdout",
     "output_type": "stream",
     "text": [
      "[{'epoch': 2,\n",
      "  'eventlog': './data/card_name_a100_gpu_count_1_cpu_num_6_mem_32GB_repeat_1_TFTTransformerepochs_2/dje5dj-45737981.err',\n",
      "  'gpulog': PosixPath('data/card_name_a100_gpu_count_1_cpu_num_6_mem_32GB_repeat_1_TFTTransformerepochs_2/gpu0.log')},\n",
      " {'epoch': 30,\n",
      "  'eventlog': './data/card_name_a100_gpu_count_1_cpu_num_6_mem_32GB_repeat_1_TFTTransformerepochs_30/dje5dj-45737982.err',\n",
      "  'gpulog': PosixPath('data/card_name_a100_gpu_count_1_cpu_num_6_mem_32GB_repeat_1_TFTTransformerepochs_30/gpu0.log')},\n",
      " {'epoch': 70,\n",
      "  'eventlog': './data/card_name_a100_gpu_count_1_cpu_num_6_mem_32GB_repeat_1_TFTTransformerepochs_70/dje5dj-45737983.err',\n",
      "  'gpulog': PosixPath('data/card_name_a100_gpu_count_1_cpu_num_6_mem_32GB_repeat_1_TFTTransformerepochs_70/gpu0.log')}]\n"
     ]
    }
   ],
   "source": [
    "files = []\n",
    "for directory, epoch in list_of_dirs:\n",
    "    gpulog = Path(directory) / \"gpu0.log\"\n",
    "    eventlog = glob.glob(f\"{directory}/*.err\")[0]\n",
    "    files.append(dotdict(\n",
    "        {\n",
    "            \"epoch\" : epoch,\n",
    "            \"eventlog\": eventlog,\n",
    "            \"gpulog\": gpulog\n",
    "        })\n",
    "    )\n",
    "\n",
    "pprint (files)"
   ],
   "metadata": {
    "collapsed": false
   }
  },
  {
   "cell_type": "code",
   "execution_count": 4,
   "outputs": [],
   "source": [
    "def convert_column_to_seconds(df, col):\n",
    "    # df[[name]] = df[[name]].astype('datetime64[us]')\n",
    "    df[col] = pd.to_datetime(df[col], errors='coerce')\n",
    "    # df[[name]] = pd.to_datetime(df[[name]], errors='coerce')\n",
    "    start_t = df[col].iloc[0]\n",
    "    print (start_t, type(start_t))\n",
    "    for index, row in df.iterrows():\n",
    "\n",
    "        delta = df.loc[index, col] - start_t\n",
    "        df.loc[index, col] = delta.total_seconds()\n",
    "    # df[name_of_seconds_column] = df[name] - start_t\n",
    "    # df[[name]] = df[[name]].astype(int)/1000000000\n",
    "    return df\n",
    "\n",
    "def fix_date_format(df, col):\n",
    "    # if We have T in it, we do not need to fix\n",
    "    for i, row in df.iterrows():\n",
    "        value = df.loc[i,col]\n",
    "        if \"T\" not in value:\n",
    "            new_date = df.loc[i,col].replace(\":\", \" \", 1)\n",
    "            df.loc[i,col] = new_date\n",
    "    df[col] = pd.to_datetime(df[col])\n",
    "    return df"
   ],
   "metadata": {
    "collapsed": false
   }
  },
  {
   "cell_type": "code",
   "execution_count": 5,
   "outputs": [],
   "source": [
    "def read_energy(filename=None):\n",
    "    location = Shell.map_filename(filename).path\n",
    "    # 1: means removing hashes\n",
    "    content = readfile(location).splitlines()[1:]\n",
    "    # removing #\n",
    "    content[0] = content[0][2:]\n",
    "    # print(content[0:10])\n",
    "    content = \"\\n\".join(content)\n",
    "    content = content.replace(', ', ',')\n",
    "    df = pd.read_csv(io.StringIO(content),sep=',')\n",
    "\n",
    "    df = fix_date_format(df, \"time\")\n",
    "    df[[\"time\"]] = df[[\"time\"]].astype('datetime64[ns]')\n",
    "    initial_time = df.iloc[0]['time']\n",
    "    df['duration'] = df['time'] - initial_time\n",
    "    print('A')\n",
    "    display(df)\n",
    "    return df\n"
   ],
   "metadata": {
    "collapsed": false
   }
  },
  {
   "cell_type": "code",
   "execution_count": 6,
   "outputs": [],
   "source": [
    "def read_eventlog(filename):\n",
    "    location = Shell.map_filename(filename).path\n",
    "    content = readfile(location, encoding='utf-8')\n",
    "    content = content.replace(', ', ',').splitlines()\n",
    "\n",
    "    # headline = '# csv,timer,status,time,sum,start,tag,msg,uname.node,user,uname.system,platform.version'\n",
    "    headline = Shell.cm_grep(content, '# csv,timer')[0]\n",
    "    csv_lines = Shell.cm_grep(content, '# csv')\n",
    "    csv_lines = Shell.cm_grep(csv_lines, 'Linux')\n",
    "    csv_lines.insert(0, headline)\n",
    "    # print(\"\\n\".join(csv_lines))\n",
    "    content = \"\\n\".join(csv_lines)\n",
    "    df = pd.read_csv(io.StringIO(content),sep=',')\n",
    "    df = df.rename(columns={'time':'dt'})\n",
    "    df = df.rename(columns={'start':'time'})\n",
    "    df[[\"time\"]] = df[[\"time\"]].astype('datetime64[ns]')\n",
    "    df = df.drop(columns=['# csv', 'status', 'sum', 'uname.node', 'user', 'uname.system', 'platform.version', 'msg'])\n",
    "    t = df.pop(\"time\")\n",
    "    df.insert(0, \"time\", t)\n",
    "    # df = df['time'].dt.total_seconds()\n",
    "    initial_time = df.iloc[0]['time']\n",
    "    df['duration'] = df['time'] - initial_time\n",
    "    print('B')\n",
    "    # df.time.total_seconds()\n",
    "    display(df)\n",
    "    return df"
   ],
   "metadata": {
    "collapsed": false
   }
  },
  {
   "cell_type": "code",
   "execution_count": 7,
   "outputs": [],
   "source": [
    "def export_figure(x='Time/s', y='Energy/W', filename=None):\n",
    "   plt.xlabel(x)\n",
    "   plt.ylabel(y)\n",
    "   base = os.path.dirname(filename.replace('_', '-').lower())\n",
    "   png = base + \".png\"\n",
    "   pdf = base + \".pdf\"\n",
    "   plt.savefig(png, bbox_inches='tight', dpi=600)\n",
    "   plt.savefig(pdf, bbox_inches='tight')"
   ],
   "metadata": {
    "collapsed": false
   }
  },
  {
   "cell_type": "code",
   "execution_count": 8,
   "outputs": [],
   "source": [
    "def plot_energy(filename, epoch):\n",
    "    df = read_energy(filename)\n",
    "    label = f'Epoch {epoch}'\n",
    "    df.rename(columns = {'0 power_draw W':label}, inplace=True)\n",
    "    energy = df[['time', label]]\n",
    "    # display(energy)\n",
    "    ax = sns.lineplot(energy)\n",
    "\n",
    "    poi = ['INIT',\n",
    "       'data head setup',\n",
    "       'RunTFTCustomVersion A',\n",
    "       'RunTFTCustomVersion bestfit Epoch:0',\n",
    "       'RunTFTCustomVersion bestfit finalize',\n",
    "       'DLprediction Iteration',\n",
    "       'DLResults_Graphs timer_num:0',\n",
    "       'RunTFTCustomVersion bestfit finalize VisualizeTFT event_num:0']\n",
    "\n",
    "    for i, row in df.iterrows():\n",
    "       label = row['timer']\n",
    "       if label in poi:\n",
    "          # print(row['timer'], row['start'])\n",
    "          x = row['start']\n",
    "          y = 180\n",
    "          print(x, type(x), y, type(y), label, type(label))\n",
    "          ax.text(x, y, label, rotation=45)\n",
    "          ax.plot(x, y)\n",
    "\n",
    "    # export_figure('Time', 'Energy', filename)\n",
    "    return ax\n"
   ],
   "metadata": {
    "collapsed": false
   }
  },
  {
   "cell_type": "code",
   "execution_count": 8,
   "outputs": [],
   "source": [],
   "metadata": {
    "collapsed": false
   }
  },
  {
   "cell_type": "code",
   "execution_count": 9,
   "outputs": [
    {
     "name": "stdout",
     "output_type": "stream",
     "text": [
      "Generate output for Epoch 2\n",
      "A\n"
     ]
    },
    {
     "data": {
      "text/plain": "                           time  0 id  0 gpu_util %  0 memory_util %  \\\n0    2022-12-21 12:55:22.564333     0             0                0   \n1    2022-12-21 12:55:24.945493     0             0                0   \n2    2022-12-21 12:55:27.311910     0             0                0   \n3    2022-12-21 12:55:29.670566     0             0                0   \n4    2022-12-21 12:55:32.021929     0             0                0   \n...                         ...   ...           ...              ...   \n4515 2022-12-21 15:40:10.573657     0             0                0   \n4516 2022-12-21 15:40:12.721494     0             0                0   \n4517 2022-12-21 15:40:14.895605     0             0                0   \n4518 2022-12-21 15:40:17.046980     0             0                0   \n4519 2022-12-21 15:40:19.194902     0             0                0   \n\n      0 encoder_util %  0 decoder_util %  0 gpu_temp C  0 power_draw W  \\\n0                    0                 0            30           64.53   \n1                    0                 0            30           64.53   \n2                    0                 0            30           64.53   \n3                    0                 0            30           64.53   \n4                    0                 0            30           64.46   \n...                ...               ...           ...             ...   \n4515                 0                 0            32           71.79   \n4516                 0                 0            32           71.79   \n4517                 0                 0            32           71.45   \n4518                 0                 0            32           71.79   \n4519                 0                 0            32           88.77   \n\n                   duration  \n0           0 days 00:00:00  \n1    0 days 00:00:02.381160  \n2    0 days 00:00:04.747577  \n3    0 days 00:00:07.106233  \n4    0 days 00:00:09.457596  \n...                     ...  \n4515 0 days 02:44:48.009324  \n4516 0 days 02:44:50.157161  \n4517 0 days 02:44:52.331272  \n4518 0 days 02:44:54.482647  \n4519 0 days 02:44:56.630569  \n\n[4520 rows x 9 columns]",
      "text/html": "<div>\n<style scoped>\n    .dataframe tbody tr th:only-of-type {\n        vertical-align: middle;\n    }\n\n    .dataframe tbody tr th {\n        vertical-align: top;\n    }\n\n    .dataframe thead th {\n        text-align: right;\n    }\n</style>\n<table border=\"1\" class=\"dataframe\">\n  <thead>\n    <tr style=\"text-align: right;\">\n      <th></th>\n      <th>time</th>\n      <th>0 id</th>\n      <th>0 gpu_util %</th>\n      <th>0 memory_util %</th>\n      <th>0 encoder_util %</th>\n      <th>0 decoder_util %</th>\n      <th>0 gpu_temp C</th>\n      <th>0 power_draw W</th>\n      <th>duration</th>\n    </tr>\n  </thead>\n  <tbody>\n    <tr>\n      <th>0</th>\n      <td>2022-12-21 12:55:22.564333</td>\n      <td>0</td>\n      <td>0</td>\n      <td>0</td>\n      <td>0</td>\n      <td>0</td>\n      <td>30</td>\n      <td>64.53</td>\n      <td>0 days 00:00:00</td>\n    </tr>\n    <tr>\n      <th>1</th>\n      <td>2022-12-21 12:55:24.945493</td>\n      <td>0</td>\n      <td>0</td>\n      <td>0</td>\n      <td>0</td>\n      <td>0</td>\n      <td>30</td>\n      <td>64.53</td>\n      <td>0 days 00:00:02.381160</td>\n    </tr>\n    <tr>\n      <th>2</th>\n      <td>2022-12-21 12:55:27.311910</td>\n      <td>0</td>\n      <td>0</td>\n      <td>0</td>\n      <td>0</td>\n      <td>0</td>\n      <td>30</td>\n      <td>64.53</td>\n      <td>0 days 00:00:04.747577</td>\n    </tr>\n    <tr>\n      <th>3</th>\n      <td>2022-12-21 12:55:29.670566</td>\n      <td>0</td>\n      <td>0</td>\n      <td>0</td>\n      <td>0</td>\n      <td>0</td>\n      <td>30</td>\n      <td>64.53</td>\n      <td>0 days 00:00:07.106233</td>\n    </tr>\n    <tr>\n      <th>4</th>\n      <td>2022-12-21 12:55:32.021929</td>\n      <td>0</td>\n      <td>0</td>\n      <td>0</td>\n      <td>0</td>\n      <td>0</td>\n      <td>30</td>\n      <td>64.46</td>\n      <td>0 days 00:00:09.457596</td>\n    </tr>\n    <tr>\n      <th>...</th>\n      <td>...</td>\n      <td>...</td>\n      <td>...</td>\n      <td>...</td>\n      <td>...</td>\n      <td>...</td>\n      <td>...</td>\n      <td>...</td>\n      <td>...</td>\n    </tr>\n    <tr>\n      <th>4515</th>\n      <td>2022-12-21 15:40:10.573657</td>\n      <td>0</td>\n      <td>0</td>\n      <td>0</td>\n      <td>0</td>\n      <td>0</td>\n      <td>32</td>\n      <td>71.79</td>\n      <td>0 days 02:44:48.009324</td>\n    </tr>\n    <tr>\n      <th>4516</th>\n      <td>2022-12-21 15:40:12.721494</td>\n      <td>0</td>\n      <td>0</td>\n      <td>0</td>\n      <td>0</td>\n      <td>0</td>\n      <td>32</td>\n      <td>71.79</td>\n      <td>0 days 02:44:50.157161</td>\n    </tr>\n    <tr>\n      <th>4517</th>\n      <td>2022-12-21 15:40:14.895605</td>\n      <td>0</td>\n      <td>0</td>\n      <td>0</td>\n      <td>0</td>\n      <td>0</td>\n      <td>32</td>\n      <td>71.45</td>\n      <td>0 days 02:44:52.331272</td>\n    </tr>\n    <tr>\n      <th>4518</th>\n      <td>2022-12-21 15:40:17.046980</td>\n      <td>0</td>\n      <td>0</td>\n      <td>0</td>\n      <td>0</td>\n      <td>0</td>\n      <td>32</td>\n      <td>71.79</td>\n      <td>0 days 02:44:54.482647</td>\n    </tr>\n    <tr>\n      <th>4519</th>\n      <td>2022-12-21 15:40:19.194902</td>\n      <td>0</td>\n      <td>0</td>\n      <td>0</td>\n      <td>0</td>\n      <td>0</td>\n      <td>32</td>\n      <td>88.77</td>\n      <td>0 days 02:44:56.630569</td>\n    </tr>\n  </tbody>\n</table>\n<p>4520 rows × 9 columns</p>\n</div>"
     },
     "metadata": {},
     "output_type": "display_data"
    },
    {
     "name": "stdout",
     "output_type": "stream",
     "text": [
      "B\n"
     ]
    },
    {
     "data": {
      "text/plain": "                   time                                              timer  \\\n0   2022-12-21 17:55:33                                              total   \n1   2022-12-21 17:55:33                                              total   \n2   2022-12-21 17:55:48                                               INIT   \n3   2022-12-21 17:55:51                                               EVAL   \n4   2022-12-21 17:55:51                                              PLOTS   \n..                  ...                                                ...   \n224 2022-12-21 20:40:06  RunTFTCustomVersion DLResults Graph Title even...   \n225 2022-12-21 20:40:06  RunTFTCustomVersion DLResults Graph Title even...   \n226 2022-12-21 20:40:07  RunTFTCustomVersion DLResults Graph Title even...   \n227 2022-12-21 20:40:07  RunTFTCustomVersion DLResults Graph Title even...   \n228 2022-12-21 20:40:08  RunTFTCustomVersion bestfit finalize Visualize...   \n\n           dt     tag        duration  \n0        None  TIMER1 0 days 00:00:00  \n1    9876.208  TIMER2 0 days 00:00:00  \n2       2.261  TIMER2 0 days 00:00:15  \n3     409.961  TIMER2 0 days 00:00:18  \n4     385.099  TIMER2 0 days 00:00:18  \n..        ...     ...             ...  \n224       0.0  TIMER2 0 days 02:44:33  \n225       0.0  TIMER2 0 days 02:44:33  \n226       0.0  TIMER2 0 days 02:44:34  \n227       0.0  TIMER2 0 days 02:44:34  \n228       0.0  TIMER2 0 days 02:44:35  \n\n[229 rows x 5 columns]",
      "text/html": "<div>\n<style scoped>\n    .dataframe tbody tr th:only-of-type {\n        vertical-align: middle;\n    }\n\n    .dataframe tbody tr th {\n        vertical-align: top;\n    }\n\n    .dataframe thead th {\n        text-align: right;\n    }\n</style>\n<table border=\"1\" class=\"dataframe\">\n  <thead>\n    <tr style=\"text-align: right;\">\n      <th></th>\n      <th>time</th>\n      <th>timer</th>\n      <th>dt</th>\n      <th>tag</th>\n      <th>duration</th>\n    </tr>\n  </thead>\n  <tbody>\n    <tr>\n      <th>0</th>\n      <td>2022-12-21 17:55:33</td>\n      <td>total</td>\n      <td>None</td>\n      <td>TIMER1</td>\n      <td>0 days 00:00:00</td>\n    </tr>\n    <tr>\n      <th>1</th>\n      <td>2022-12-21 17:55:33</td>\n      <td>total</td>\n      <td>9876.208</td>\n      <td>TIMER2</td>\n      <td>0 days 00:00:00</td>\n    </tr>\n    <tr>\n      <th>2</th>\n      <td>2022-12-21 17:55:48</td>\n      <td>INIT</td>\n      <td>2.261</td>\n      <td>TIMER2</td>\n      <td>0 days 00:00:15</td>\n    </tr>\n    <tr>\n      <th>3</th>\n      <td>2022-12-21 17:55:51</td>\n      <td>EVAL</td>\n      <td>409.961</td>\n      <td>TIMER2</td>\n      <td>0 days 00:00:18</td>\n    </tr>\n    <tr>\n      <th>4</th>\n      <td>2022-12-21 17:55:51</td>\n      <td>PLOTS</td>\n      <td>385.099</td>\n      <td>TIMER2</td>\n      <td>0 days 00:00:18</td>\n    </tr>\n    <tr>\n      <th>...</th>\n      <td>...</td>\n      <td>...</td>\n      <td>...</td>\n      <td>...</td>\n      <td>...</td>\n    </tr>\n    <tr>\n      <th>224</th>\n      <td>2022-12-21 20:40:06</td>\n      <td>RunTFTCustomVersion DLResults Graph Title even...</td>\n      <td>0.0</td>\n      <td>TIMER2</td>\n      <td>0 days 02:44:33</td>\n    </tr>\n    <tr>\n      <th>225</th>\n      <td>2022-12-21 20:40:06</td>\n      <td>RunTFTCustomVersion DLResults Graph Title even...</td>\n      <td>0.0</td>\n      <td>TIMER2</td>\n      <td>0 days 02:44:33</td>\n    </tr>\n    <tr>\n      <th>226</th>\n      <td>2022-12-21 20:40:07</td>\n      <td>RunTFTCustomVersion DLResults Graph Title even...</td>\n      <td>0.0</td>\n      <td>TIMER2</td>\n      <td>0 days 02:44:34</td>\n    </tr>\n    <tr>\n      <th>227</th>\n      <td>2022-12-21 20:40:07</td>\n      <td>RunTFTCustomVersion DLResults Graph Title even...</td>\n      <td>0.0</td>\n      <td>TIMER2</td>\n      <td>0 days 02:44:34</td>\n    </tr>\n    <tr>\n      <th>228</th>\n      <td>2022-12-21 20:40:08</td>\n      <td>RunTFTCustomVersion bestfit finalize Visualize...</td>\n      <td>0.0</td>\n      <td>TIMER2</td>\n      <td>0 days 02:44:35</td>\n    </tr>\n  </tbody>\n</table>\n<p>229 rows × 5 columns</p>\n</div>"
     },
     "metadata": {},
     "output_type": "display_data"
    },
    {
     "data": {
      "text/plain": "                           time  0 id  0 gpu_util %  0 memory_util %  \\\n0    2022-12-21 12:55:22.564333     0             0                0   \n1    2022-12-21 12:55:24.945493     0             0                0   \n2    2022-12-21 12:55:27.311910     0             0                0   \n3    2022-12-21 12:55:29.670566     0             0                0   \n4    2022-12-21 12:55:32.021929     0             0                0   \n...                         ...   ...           ...              ...   \n4515 2022-12-21 15:40:10.573657     0             0                0   \n4516 2022-12-21 15:40:12.721494     0             0                0   \n4517 2022-12-21 15:40:14.895605     0             0                0   \n4518 2022-12-21 15:40:17.046980     0             0                0   \n4519 2022-12-21 15:40:19.194902     0             0                0   \n\n      0 encoder_util %  0 decoder_util %  0 gpu_temp C  0 power_draw W  \\\n0                    0                 0            30           64.53   \n1                    0                 0            30           64.53   \n2                    0                 0            30           64.53   \n3                    0                 0            30           64.53   \n4                    0                 0            30           64.46   \n...                ...               ...           ...             ...   \n4515                 0                 0            32           71.79   \n4516                 0                 0            32           71.79   \n4517                 0                 0            32           71.45   \n4518                 0                 0            32           71.79   \n4519                 0                 0            32           88.77   \n\n                   duration  \n0           0 days 00:00:00  \n1    0 days 00:00:02.381160  \n2    0 days 00:00:04.747577  \n3    0 days 00:00:07.106233  \n4    0 days 00:00:09.457596  \n...                     ...  \n4515 0 days 02:44:48.009324  \n4516 0 days 02:44:50.157161  \n4517 0 days 02:44:52.331272  \n4518 0 days 02:44:54.482647  \n4519 0 days 02:44:56.630569  \n\n[4520 rows x 9 columns]",
      "text/html": "<div>\n<style scoped>\n    .dataframe tbody tr th:only-of-type {\n        vertical-align: middle;\n    }\n\n    .dataframe tbody tr th {\n        vertical-align: top;\n    }\n\n    .dataframe thead th {\n        text-align: right;\n    }\n</style>\n<table border=\"1\" class=\"dataframe\">\n  <thead>\n    <tr style=\"text-align: right;\">\n      <th></th>\n      <th>time</th>\n      <th>0 id</th>\n      <th>0 gpu_util %</th>\n      <th>0 memory_util %</th>\n      <th>0 encoder_util %</th>\n      <th>0 decoder_util %</th>\n      <th>0 gpu_temp C</th>\n      <th>0 power_draw W</th>\n      <th>duration</th>\n    </tr>\n  </thead>\n  <tbody>\n    <tr>\n      <th>0</th>\n      <td>2022-12-21 12:55:22.564333</td>\n      <td>0</td>\n      <td>0</td>\n      <td>0</td>\n      <td>0</td>\n      <td>0</td>\n      <td>30</td>\n      <td>64.53</td>\n      <td>0 days 00:00:00</td>\n    </tr>\n    <tr>\n      <th>1</th>\n      <td>2022-12-21 12:55:24.945493</td>\n      <td>0</td>\n      <td>0</td>\n      <td>0</td>\n      <td>0</td>\n      <td>0</td>\n      <td>30</td>\n      <td>64.53</td>\n      <td>0 days 00:00:02.381160</td>\n    </tr>\n    <tr>\n      <th>2</th>\n      <td>2022-12-21 12:55:27.311910</td>\n      <td>0</td>\n      <td>0</td>\n      <td>0</td>\n      <td>0</td>\n      <td>0</td>\n      <td>30</td>\n      <td>64.53</td>\n      <td>0 days 00:00:04.747577</td>\n    </tr>\n    <tr>\n      <th>3</th>\n      <td>2022-12-21 12:55:29.670566</td>\n      <td>0</td>\n      <td>0</td>\n      <td>0</td>\n      <td>0</td>\n      <td>0</td>\n      <td>30</td>\n      <td>64.53</td>\n      <td>0 days 00:00:07.106233</td>\n    </tr>\n    <tr>\n      <th>4</th>\n      <td>2022-12-21 12:55:32.021929</td>\n      <td>0</td>\n      <td>0</td>\n      <td>0</td>\n      <td>0</td>\n      <td>0</td>\n      <td>30</td>\n      <td>64.46</td>\n      <td>0 days 00:00:09.457596</td>\n    </tr>\n    <tr>\n      <th>...</th>\n      <td>...</td>\n      <td>...</td>\n      <td>...</td>\n      <td>...</td>\n      <td>...</td>\n      <td>...</td>\n      <td>...</td>\n      <td>...</td>\n      <td>...</td>\n    </tr>\n    <tr>\n      <th>4515</th>\n      <td>2022-12-21 15:40:10.573657</td>\n      <td>0</td>\n      <td>0</td>\n      <td>0</td>\n      <td>0</td>\n      <td>0</td>\n      <td>32</td>\n      <td>71.79</td>\n      <td>0 days 02:44:48.009324</td>\n    </tr>\n    <tr>\n      <th>4516</th>\n      <td>2022-12-21 15:40:12.721494</td>\n      <td>0</td>\n      <td>0</td>\n      <td>0</td>\n      <td>0</td>\n      <td>0</td>\n      <td>32</td>\n      <td>71.79</td>\n      <td>0 days 02:44:50.157161</td>\n    </tr>\n    <tr>\n      <th>4517</th>\n      <td>2022-12-21 15:40:14.895605</td>\n      <td>0</td>\n      <td>0</td>\n      <td>0</td>\n      <td>0</td>\n      <td>0</td>\n      <td>32</td>\n      <td>71.45</td>\n      <td>0 days 02:44:52.331272</td>\n    </tr>\n    <tr>\n      <th>4518</th>\n      <td>2022-12-21 15:40:17.046980</td>\n      <td>0</td>\n      <td>0</td>\n      <td>0</td>\n      <td>0</td>\n      <td>0</td>\n      <td>32</td>\n      <td>71.79</td>\n      <td>0 days 02:44:54.482647</td>\n    </tr>\n    <tr>\n      <th>4519</th>\n      <td>2022-12-21 15:40:19.194902</td>\n      <td>0</td>\n      <td>0</td>\n      <td>0</td>\n      <td>0</td>\n      <td>0</td>\n      <td>32</td>\n      <td>88.77</td>\n      <td>0 days 02:44:56.630569</td>\n    </tr>\n  </tbody>\n</table>\n<p>4520 rows × 9 columns</p>\n</div>"
     },
     "metadata": {},
     "output_type": "display_data"
    },
    {
     "data": {
      "text/plain": "                   time                                              timer  \\\n0   2022-12-21 17:55:33                                              total   \n1   2022-12-21 17:55:33                                              total   \n2   2022-12-21 17:55:48                                               INIT   \n3   2022-12-21 17:55:51                                               EVAL   \n4   2022-12-21 17:55:51                                              PLOTS   \n..                  ...                                                ...   \n224 2022-12-21 20:40:06  RunTFTCustomVersion DLResults Graph Title even...   \n225 2022-12-21 20:40:06  RunTFTCustomVersion DLResults Graph Title even...   \n226 2022-12-21 20:40:07  RunTFTCustomVersion DLResults Graph Title even...   \n227 2022-12-21 20:40:07  RunTFTCustomVersion DLResults Graph Title even...   \n228 2022-12-21 20:40:08  RunTFTCustomVersion bestfit finalize Visualize...   \n\n           dt     tag        duration  \n0        None  TIMER1 0 days 00:00:00  \n1    9876.208  TIMER2 0 days 00:00:00  \n2       2.261  TIMER2 0 days 00:00:15  \n3     409.961  TIMER2 0 days 00:00:18  \n4     385.099  TIMER2 0 days 00:00:18  \n..        ...     ...             ...  \n224       0.0  TIMER2 0 days 02:44:33  \n225       0.0  TIMER2 0 days 02:44:33  \n226       0.0  TIMER2 0 days 02:44:34  \n227       0.0  TIMER2 0 days 02:44:34  \n228       0.0  TIMER2 0 days 02:44:35  \n\n[229 rows x 5 columns]",
      "text/html": "<div>\n<style scoped>\n    .dataframe tbody tr th:only-of-type {\n        vertical-align: middle;\n    }\n\n    .dataframe tbody tr th {\n        vertical-align: top;\n    }\n\n    .dataframe thead th {\n        text-align: right;\n    }\n</style>\n<table border=\"1\" class=\"dataframe\">\n  <thead>\n    <tr style=\"text-align: right;\">\n      <th></th>\n      <th>time</th>\n      <th>timer</th>\n      <th>dt</th>\n      <th>tag</th>\n      <th>duration</th>\n    </tr>\n  </thead>\n  <tbody>\n    <tr>\n      <th>0</th>\n      <td>2022-12-21 17:55:33</td>\n      <td>total</td>\n      <td>None</td>\n      <td>TIMER1</td>\n      <td>0 days 00:00:00</td>\n    </tr>\n    <tr>\n      <th>1</th>\n      <td>2022-12-21 17:55:33</td>\n      <td>total</td>\n      <td>9876.208</td>\n      <td>TIMER2</td>\n      <td>0 days 00:00:00</td>\n    </tr>\n    <tr>\n      <th>2</th>\n      <td>2022-12-21 17:55:48</td>\n      <td>INIT</td>\n      <td>2.261</td>\n      <td>TIMER2</td>\n      <td>0 days 00:00:15</td>\n    </tr>\n    <tr>\n      <th>3</th>\n      <td>2022-12-21 17:55:51</td>\n      <td>EVAL</td>\n      <td>409.961</td>\n      <td>TIMER2</td>\n      <td>0 days 00:00:18</td>\n    </tr>\n    <tr>\n      <th>4</th>\n      <td>2022-12-21 17:55:51</td>\n      <td>PLOTS</td>\n      <td>385.099</td>\n      <td>TIMER2</td>\n      <td>0 days 00:00:18</td>\n    </tr>\n    <tr>\n      <th>...</th>\n      <td>...</td>\n      <td>...</td>\n      <td>...</td>\n      <td>...</td>\n      <td>...</td>\n    </tr>\n    <tr>\n      <th>224</th>\n      <td>2022-12-21 20:40:06</td>\n      <td>RunTFTCustomVersion DLResults Graph Title even...</td>\n      <td>0.0</td>\n      <td>TIMER2</td>\n      <td>0 days 02:44:33</td>\n    </tr>\n    <tr>\n      <th>225</th>\n      <td>2022-12-21 20:40:06</td>\n      <td>RunTFTCustomVersion DLResults Graph Title even...</td>\n      <td>0.0</td>\n      <td>TIMER2</td>\n      <td>0 days 02:44:33</td>\n    </tr>\n    <tr>\n      <th>226</th>\n      <td>2022-12-21 20:40:07</td>\n      <td>RunTFTCustomVersion DLResults Graph Title even...</td>\n      <td>0.0</td>\n      <td>TIMER2</td>\n      <td>0 days 02:44:34</td>\n    </tr>\n    <tr>\n      <th>227</th>\n      <td>2022-12-21 20:40:07</td>\n      <td>RunTFTCustomVersion DLResults Graph Title even...</td>\n      <td>0.0</td>\n      <td>TIMER2</td>\n      <td>0 days 02:44:34</td>\n    </tr>\n    <tr>\n      <th>228</th>\n      <td>2022-12-21 20:40:08</td>\n      <td>RunTFTCustomVersion bestfit finalize Visualize...</td>\n      <td>0.0</td>\n      <td>TIMER2</td>\n      <td>0 days 02:44:35</td>\n    </tr>\n  </tbody>\n</table>\n<p>229 rows × 5 columns</p>\n</div>"
     },
     "metadata": {},
     "output_type": "display_data"
    },
    {
     "name": "stdout",
     "output_type": "stream",
     "text": [
      "Generate output for Epoch 30\n",
      "A\n"
     ]
    },
    {
     "data": {
      "text/plain": "                            time  0 id  0 gpu_util %  0 memory_util %  \\\n0     2022-12-21 12:55:22.538575     0             0                0   \n1     2022-12-21 12:55:24.710997     0             0                0   \n2     2022-12-21 12:55:26.734467     0             0                0   \n3     2022-12-21 12:55:28.920974     0             0                0   \n4     2022-12-21 12:55:31.113173     0             0                0   \n...                          ...   ...           ...              ...   \n12312 2022-12-21 20:21:32.780166     0             0                0   \n12313 2022-12-21 20:21:34.964695     0             0                0   \n12314 2022-12-21 20:21:37.140739     0             0                0   \n12315 2022-12-21 20:21:39.323510     0             0                0   \n12316 2022-12-21 20:21:41.514058     0             1                0   \n\n       0 encoder_util %  0 decoder_util %  0 gpu_temp C  0 power_draw W  \\\n0                     0                 0            28           62.86   \n1                     0                 0            28           62.86   \n2                     0                 0            28           62.86   \n3                     0                 0            28           62.86   \n4                     0                 0            28           62.86   \n...                 ...               ...           ...             ...   \n12312                 0                 0            30           70.40   \n12313                 0                 0            30           70.40   \n12314                 0                 0            30           70.68   \n12315                 0                 0            30           70.68   \n12316                 0                 0            30           88.08   \n\n                    duration  \n0            0 days 00:00:00  \n1     0 days 00:00:02.172422  \n2     0 days 00:00:04.195892  \n3     0 days 00:00:06.382399  \n4     0 days 00:00:08.574598  \n...                      ...  \n12312 0 days 07:26:10.241591  \n12313 0 days 07:26:12.426120  \n12314 0 days 07:26:14.602164  \n12315 0 days 07:26:16.784935  \n12316 0 days 07:26:18.975483  \n\n[12317 rows x 9 columns]",
      "text/html": "<div>\n<style scoped>\n    .dataframe tbody tr th:only-of-type {\n        vertical-align: middle;\n    }\n\n    .dataframe tbody tr th {\n        vertical-align: top;\n    }\n\n    .dataframe thead th {\n        text-align: right;\n    }\n</style>\n<table border=\"1\" class=\"dataframe\">\n  <thead>\n    <tr style=\"text-align: right;\">\n      <th></th>\n      <th>time</th>\n      <th>0 id</th>\n      <th>0 gpu_util %</th>\n      <th>0 memory_util %</th>\n      <th>0 encoder_util %</th>\n      <th>0 decoder_util %</th>\n      <th>0 gpu_temp C</th>\n      <th>0 power_draw W</th>\n      <th>duration</th>\n    </tr>\n  </thead>\n  <tbody>\n    <tr>\n      <th>0</th>\n      <td>2022-12-21 12:55:22.538575</td>\n      <td>0</td>\n      <td>0</td>\n      <td>0</td>\n      <td>0</td>\n      <td>0</td>\n      <td>28</td>\n      <td>62.86</td>\n      <td>0 days 00:00:00</td>\n    </tr>\n    <tr>\n      <th>1</th>\n      <td>2022-12-21 12:55:24.710997</td>\n      <td>0</td>\n      <td>0</td>\n      <td>0</td>\n      <td>0</td>\n      <td>0</td>\n      <td>28</td>\n      <td>62.86</td>\n      <td>0 days 00:00:02.172422</td>\n    </tr>\n    <tr>\n      <th>2</th>\n      <td>2022-12-21 12:55:26.734467</td>\n      <td>0</td>\n      <td>0</td>\n      <td>0</td>\n      <td>0</td>\n      <td>0</td>\n      <td>28</td>\n      <td>62.86</td>\n      <td>0 days 00:00:04.195892</td>\n    </tr>\n    <tr>\n      <th>3</th>\n      <td>2022-12-21 12:55:28.920974</td>\n      <td>0</td>\n      <td>0</td>\n      <td>0</td>\n      <td>0</td>\n      <td>0</td>\n      <td>28</td>\n      <td>62.86</td>\n      <td>0 days 00:00:06.382399</td>\n    </tr>\n    <tr>\n      <th>4</th>\n      <td>2022-12-21 12:55:31.113173</td>\n      <td>0</td>\n      <td>0</td>\n      <td>0</td>\n      <td>0</td>\n      <td>0</td>\n      <td>28</td>\n      <td>62.86</td>\n      <td>0 days 00:00:08.574598</td>\n    </tr>\n    <tr>\n      <th>...</th>\n      <td>...</td>\n      <td>...</td>\n      <td>...</td>\n      <td>...</td>\n      <td>...</td>\n      <td>...</td>\n      <td>...</td>\n      <td>...</td>\n      <td>...</td>\n    </tr>\n    <tr>\n      <th>12312</th>\n      <td>2022-12-21 20:21:32.780166</td>\n      <td>0</td>\n      <td>0</td>\n      <td>0</td>\n      <td>0</td>\n      <td>0</td>\n      <td>30</td>\n      <td>70.40</td>\n      <td>0 days 07:26:10.241591</td>\n    </tr>\n    <tr>\n      <th>12313</th>\n      <td>2022-12-21 20:21:34.964695</td>\n      <td>0</td>\n      <td>0</td>\n      <td>0</td>\n      <td>0</td>\n      <td>0</td>\n      <td>30</td>\n      <td>70.40</td>\n      <td>0 days 07:26:12.426120</td>\n    </tr>\n    <tr>\n      <th>12314</th>\n      <td>2022-12-21 20:21:37.140739</td>\n      <td>0</td>\n      <td>0</td>\n      <td>0</td>\n      <td>0</td>\n      <td>0</td>\n      <td>30</td>\n      <td>70.68</td>\n      <td>0 days 07:26:14.602164</td>\n    </tr>\n    <tr>\n      <th>12315</th>\n      <td>2022-12-21 20:21:39.323510</td>\n      <td>0</td>\n      <td>0</td>\n      <td>0</td>\n      <td>0</td>\n      <td>0</td>\n      <td>30</td>\n      <td>70.68</td>\n      <td>0 days 07:26:16.784935</td>\n    </tr>\n    <tr>\n      <th>12316</th>\n      <td>2022-12-21 20:21:41.514058</td>\n      <td>0</td>\n      <td>1</td>\n      <td>0</td>\n      <td>0</td>\n      <td>0</td>\n      <td>30</td>\n      <td>88.08</td>\n      <td>0 days 07:26:18.975483</td>\n    </tr>\n  </tbody>\n</table>\n<p>12317 rows × 9 columns</p>\n</div>"
     },
     "metadata": {},
     "output_type": "display_data"
    },
    {
     "name": "stdout",
     "output_type": "stream",
     "text": [
      "B\n"
     ]
    },
    {
     "data": {
      "text/plain": "                   time                                              timer  \\\n0   2022-12-21 17:55:33                                              total   \n1   2022-12-21 17:55:33                                              total   \n2   2022-12-21 17:55:48                                               INIT   \n3   2022-12-21 17:55:51                                               EVAL   \n4   2022-12-21 17:55:51                                              PLOTS   \n..                  ...                                                ...   \n420 2022-12-22 01:21:28  RunTFTCustomVersion DLResults Graph Title even...   \n421 2022-12-22 01:21:28  RunTFTCustomVersion DLResults Graph Title even...   \n422 2022-12-22 01:21:28  RunTFTCustomVersion DLResults Graph Title even...   \n423 2022-12-22 01:21:28  RunTFTCustomVersion DLResults Graph Title even...   \n424 2022-12-22 01:21:29  RunTFTCustomVersion bestfit finalize Visualize...   \n\n            dt     tag        duration  \n0         None  TIMER1 0 days 00:00:00  \n1    26757.542  TIMER2 0 days 00:00:00  \n2        2.095  TIMER2 0 days 00:00:15  \n3      413.412  TIMER2 0 days 00:00:18  \n4      388.651  TIMER2 0 days 00:00:18  \n..         ...     ...             ...  \n420        0.0  TIMER2 0 days 07:25:55  \n421        0.0  TIMER2 0 days 07:25:55  \n422        0.0  TIMER2 0 days 07:25:55  \n423        0.0  TIMER2 0 days 07:25:55  \n424        0.0  TIMER2 0 days 07:25:56  \n\n[425 rows x 5 columns]",
      "text/html": "<div>\n<style scoped>\n    .dataframe tbody tr th:only-of-type {\n        vertical-align: middle;\n    }\n\n    .dataframe tbody tr th {\n        vertical-align: top;\n    }\n\n    .dataframe thead th {\n        text-align: right;\n    }\n</style>\n<table border=\"1\" class=\"dataframe\">\n  <thead>\n    <tr style=\"text-align: right;\">\n      <th></th>\n      <th>time</th>\n      <th>timer</th>\n      <th>dt</th>\n      <th>tag</th>\n      <th>duration</th>\n    </tr>\n  </thead>\n  <tbody>\n    <tr>\n      <th>0</th>\n      <td>2022-12-21 17:55:33</td>\n      <td>total</td>\n      <td>None</td>\n      <td>TIMER1</td>\n      <td>0 days 00:00:00</td>\n    </tr>\n    <tr>\n      <th>1</th>\n      <td>2022-12-21 17:55:33</td>\n      <td>total</td>\n      <td>26757.542</td>\n      <td>TIMER2</td>\n      <td>0 days 00:00:00</td>\n    </tr>\n    <tr>\n      <th>2</th>\n      <td>2022-12-21 17:55:48</td>\n      <td>INIT</td>\n      <td>2.095</td>\n      <td>TIMER2</td>\n      <td>0 days 00:00:15</td>\n    </tr>\n    <tr>\n      <th>3</th>\n      <td>2022-12-21 17:55:51</td>\n      <td>EVAL</td>\n      <td>413.412</td>\n      <td>TIMER2</td>\n      <td>0 days 00:00:18</td>\n    </tr>\n    <tr>\n      <th>4</th>\n      <td>2022-12-21 17:55:51</td>\n      <td>PLOTS</td>\n      <td>388.651</td>\n      <td>TIMER2</td>\n      <td>0 days 00:00:18</td>\n    </tr>\n    <tr>\n      <th>...</th>\n      <td>...</td>\n      <td>...</td>\n      <td>...</td>\n      <td>...</td>\n      <td>...</td>\n    </tr>\n    <tr>\n      <th>420</th>\n      <td>2022-12-22 01:21:28</td>\n      <td>RunTFTCustomVersion DLResults Graph Title even...</td>\n      <td>0.0</td>\n      <td>TIMER2</td>\n      <td>0 days 07:25:55</td>\n    </tr>\n    <tr>\n      <th>421</th>\n      <td>2022-12-22 01:21:28</td>\n      <td>RunTFTCustomVersion DLResults Graph Title even...</td>\n      <td>0.0</td>\n      <td>TIMER2</td>\n      <td>0 days 07:25:55</td>\n    </tr>\n    <tr>\n      <th>422</th>\n      <td>2022-12-22 01:21:28</td>\n      <td>RunTFTCustomVersion DLResults Graph Title even...</td>\n      <td>0.0</td>\n      <td>TIMER2</td>\n      <td>0 days 07:25:55</td>\n    </tr>\n    <tr>\n      <th>423</th>\n      <td>2022-12-22 01:21:28</td>\n      <td>RunTFTCustomVersion DLResults Graph Title even...</td>\n      <td>0.0</td>\n      <td>TIMER2</td>\n      <td>0 days 07:25:55</td>\n    </tr>\n    <tr>\n      <th>424</th>\n      <td>2022-12-22 01:21:29</td>\n      <td>RunTFTCustomVersion bestfit finalize Visualize...</td>\n      <td>0.0</td>\n      <td>TIMER2</td>\n      <td>0 days 07:25:56</td>\n    </tr>\n  </tbody>\n</table>\n<p>425 rows × 5 columns</p>\n</div>"
     },
     "metadata": {},
     "output_type": "display_data"
    },
    {
     "data": {
      "text/plain": "                            time  0 id  0 gpu_util %  0 memory_util %  \\\n0     2022-12-21 12:55:22.538575     0             0                0   \n1     2022-12-21 12:55:24.710997     0             0                0   \n2     2022-12-21 12:55:26.734467     0             0                0   \n3     2022-12-21 12:55:28.920974     0             0                0   \n4     2022-12-21 12:55:31.113173     0             0                0   \n...                          ...   ...           ...              ...   \n12312 2022-12-21 20:21:32.780166     0             0                0   \n12313 2022-12-21 20:21:34.964695     0             0                0   \n12314 2022-12-21 20:21:37.140739     0             0                0   \n12315 2022-12-21 20:21:39.323510     0             0                0   \n12316 2022-12-21 20:21:41.514058     0             1                0   \n\n       0 encoder_util %  0 decoder_util %  0 gpu_temp C  0 power_draw W  \\\n0                     0                 0            28           62.86   \n1                     0                 0            28           62.86   \n2                     0                 0            28           62.86   \n3                     0                 0            28           62.86   \n4                     0                 0            28           62.86   \n...                 ...               ...           ...             ...   \n12312                 0                 0            30           70.40   \n12313                 0                 0            30           70.40   \n12314                 0                 0            30           70.68   \n12315                 0                 0            30           70.68   \n12316                 0                 0            30           88.08   \n\n                    duration  \n0            0 days 00:00:00  \n1     0 days 00:00:02.172422  \n2     0 days 00:00:04.195892  \n3     0 days 00:00:06.382399  \n4     0 days 00:00:08.574598  \n...                      ...  \n12312 0 days 07:26:10.241591  \n12313 0 days 07:26:12.426120  \n12314 0 days 07:26:14.602164  \n12315 0 days 07:26:16.784935  \n12316 0 days 07:26:18.975483  \n\n[12317 rows x 9 columns]",
      "text/html": "<div>\n<style scoped>\n    .dataframe tbody tr th:only-of-type {\n        vertical-align: middle;\n    }\n\n    .dataframe tbody tr th {\n        vertical-align: top;\n    }\n\n    .dataframe thead th {\n        text-align: right;\n    }\n</style>\n<table border=\"1\" class=\"dataframe\">\n  <thead>\n    <tr style=\"text-align: right;\">\n      <th></th>\n      <th>time</th>\n      <th>0 id</th>\n      <th>0 gpu_util %</th>\n      <th>0 memory_util %</th>\n      <th>0 encoder_util %</th>\n      <th>0 decoder_util %</th>\n      <th>0 gpu_temp C</th>\n      <th>0 power_draw W</th>\n      <th>duration</th>\n    </tr>\n  </thead>\n  <tbody>\n    <tr>\n      <th>0</th>\n      <td>2022-12-21 12:55:22.538575</td>\n      <td>0</td>\n      <td>0</td>\n      <td>0</td>\n      <td>0</td>\n      <td>0</td>\n      <td>28</td>\n      <td>62.86</td>\n      <td>0 days 00:00:00</td>\n    </tr>\n    <tr>\n      <th>1</th>\n      <td>2022-12-21 12:55:24.710997</td>\n      <td>0</td>\n      <td>0</td>\n      <td>0</td>\n      <td>0</td>\n      <td>0</td>\n      <td>28</td>\n      <td>62.86</td>\n      <td>0 days 00:00:02.172422</td>\n    </tr>\n    <tr>\n      <th>2</th>\n      <td>2022-12-21 12:55:26.734467</td>\n      <td>0</td>\n      <td>0</td>\n      <td>0</td>\n      <td>0</td>\n      <td>0</td>\n      <td>28</td>\n      <td>62.86</td>\n      <td>0 days 00:00:04.195892</td>\n    </tr>\n    <tr>\n      <th>3</th>\n      <td>2022-12-21 12:55:28.920974</td>\n      <td>0</td>\n      <td>0</td>\n      <td>0</td>\n      <td>0</td>\n      <td>0</td>\n      <td>28</td>\n      <td>62.86</td>\n      <td>0 days 00:00:06.382399</td>\n    </tr>\n    <tr>\n      <th>4</th>\n      <td>2022-12-21 12:55:31.113173</td>\n      <td>0</td>\n      <td>0</td>\n      <td>0</td>\n      <td>0</td>\n      <td>0</td>\n      <td>28</td>\n      <td>62.86</td>\n      <td>0 days 00:00:08.574598</td>\n    </tr>\n    <tr>\n      <th>...</th>\n      <td>...</td>\n      <td>...</td>\n      <td>...</td>\n      <td>...</td>\n      <td>...</td>\n      <td>...</td>\n      <td>...</td>\n      <td>...</td>\n      <td>...</td>\n    </tr>\n    <tr>\n      <th>12312</th>\n      <td>2022-12-21 20:21:32.780166</td>\n      <td>0</td>\n      <td>0</td>\n      <td>0</td>\n      <td>0</td>\n      <td>0</td>\n      <td>30</td>\n      <td>70.40</td>\n      <td>0 days 07:26:10.241591</td>\n    </tr>\n    <tr>\n      <th>12313</th>\n      <td>2022-12-21 20:21:34.964695</td>\n      <td>0</td>\n      <td>0</td>\n      <td>0</td>\n      <td>0</td>\n      <td>0</td>\n      <td>30</td>\n      <td>70.40</td>\n      <td>0 days 07:26:12.426120</td>\n    </tr>\n    <tr>\n      <th>12314</th>\n      <td>2022-12-21 20:21:37.140739</td>\n      <td>0</td>\n      <td>0</td>\n      <td>0</td>\n      <td>0</td>\n      <td>0</td>\n      <td>30</td>\n      <td>70.68</td>\n      <td>0 days 07:26:14.602164</td>\n    </tr>\n    <tr>\n      <th>12315</th>\n      <td>2022-12-21 20:21:39.323510</td>\n      <td>0</td>\n      <td>0</td>\n      <td>0</td>\n      <td>0</td>\n      <td>0</td>\n      <td>30</td>\n      <td>70.68</td>\n      <td>0 days 07:26:16.784935</td>\n    </tr>\n    <tr>\n      <th>12316</th>\n      <td>2022-12-21 20:21:41.514058</td>\n      <td>0</td>\n      <td>1</td>\n      <td>0</td>\n      <td>0</td>\n      <td>0</td>\n      <td>30</td>\n      <td>88.08</td>\n      <td>0 days 07:26:18.975483</td>\n    </tr>\n  </tbody>\n</table>\n<p>12317 rows × 9 columns</p>\n</div>"
     },
     "metadata": {},
     "output_type": "display_data"
    },
    {
     "data": {
      "text/plain": "                   time                                              timer  \\\n0   2022-12-21 17:55:33                                              total   \n1   2022-12-21 17:55:33                                              total   \n2   2022-12-21 17:55:48                                               INIT   \n3   2022-12-21 17:55:51                                               EVAL   \n4   2022-12-21 17:55:51                                              PLOTS   \n..                  ...                                                ...   \n420 2022-12-22 01:21:28  RunTFTCustomVersion DLResults Graph Title even...   \n421 2022-12-22 01:21:28  RunTFTCustomVersion DLResults Graph Title even...   \n422 2022-12-22 01:21:28  RunTFTCustomVersion DLResults Graph Title even...   \n423 2022-12-22 01:21:28  RunTFTCustomVersion DLResults Graph Title even...   \n424 2022-12-22 01:21:29  RunTFTCustomVersion bestfit finalize Visualize...   \n\n            dt     tag        duration  \n0         None  TIMER1 0 days 00:00:00  \n1    26757.542  TIMER2 0 days 00:00:00  \n2        2.095  TIMER2 0 days 00:00:15  \n3      413.412  TIMER2 0 days 00:00:18  \n4      388.651  TIMER2 0 days 00:00:18  \n..         ...     ...             ...  \n420        0.0  TIMER2 0 days 07:25:55  \n421        0.0  TIMER2 0 days 07:25:55  \n422        0.0  TIMER2 0 days 07:25:55  \n423        0.0  TIMER2 0 days 07:25:55  \n424        0.0  TIMER2 0 days 07:25:56  \n\n[425 rows x 5 columns]",
      "text/html": "<div>\n<style scoped>\n    .dataframe tbody tr th:only-of-type {\n        vertical-align: middle;\n    }\n\n    .dataframe tbody tr th {\n        vertical-align: top;\n    }\n\n    .dataframe thead th {\n        text-align: right;\n    }\n</style>\n<table border=\"1\" class=\"dataframe\">\n  <thead>\n    <tr style=\"text-align: right;\">\n      <th></th>\n      <th>time</th>\n      <th>timer</th>\n      <th>dt</th>\n      <th>tag</th>\n      <th>duration</th>\n    </tr>\n  </thead>\n  <tbody>\n    <tr>\n      <th>0</th>\n      <td>2022-12-21 17:55:33</td>\n      <td>total</td>\n      <td>None</td>\n      <td>TIMER1</td>\n      <td>0 days 00:00:00</td>\n    </tr>\n    <tr>\n      <th>1</th>\n      <td>2022-12-21 17:55:33</td>\n      <td>total</td>\n      <td>26757.542</td>\n      <td>TIMER2</td>\n      <td>0 days 00:00:00</td>\n    </tr>\n    <tr>\n      <th>2</th>\n      <td>2022-12-21 17:55:48</td>\n      <td>INIT</td>\n      <td>2.095</td>\n      <td>TIMER2</td>\n      <td>0 days 00:00:15</td>\n    </tr>\n    <tr>\n      <th>3</th>\n      <td>2022-12-21 17:55:51</td>\n      <td>EVAL</td>\n      <td>413.412</td>\n      <td>TIMER2</td>\n      <td>0 days 00:00:18</td>\n    </tr>\n    <tr>\n      <th>4</th>\n      <td>2022-12-21 17:55:51</td>\n      <td>PLOTS</td>\n      <td>388.651</td>\n      <td>TIMER2</td>\n      <td>0 days 00:00:18</td>\n    </tr>\n    <tr>\n      <th>...</th>\n      <td>...</td>\n      <td>...</td>\n      <td>...</td>\n      <td>...</td>\n      <td>...</td>\n    </tr>\n    <tr>\n      <th>420</th>\n      <td>2022-12-22 01:21:28</td>\n      <td>RunTFTCustomVersion DLResults Graph Title even...</td>\n      <td>0.0</td>\n      <td>TIMER2</td>\n      <td>0 days 07:25:55</td>\n    </tr>\n    <tr>\n      <th>421</th>\n      <td>2022-12-22 01:21:28</td>\n      <td>RunTFTCustomVersion DLResults Graph Title even...</td>\n      <td>0.0</td>\n      <td>TIMER2</td>\n      <td>0 days 07:25:55</td>\n    </tr>\n    <tr>\n      <th>422</th>\n      <td>2022-12-22 01:21:28</td>\n      <td>RunTFTCustomVersion DLResults Graph Title even...</td>\n      <td>0.0</td>\n      <td>TIMER2</td>\n      <td>0 days 07:25:55</td>\n    </tr>\n    <tr>\n      <th>423</th>\n      <td>2022-12-22 01:21:28</td>\n      <td>RunTFTCustomVersion DLResults Graph Title even...</td>\n      <td>0.0</td>\n      <td>TIMER2</td>\n      <td>0 days 07:25:55</td>\n    </tr>\n    <tr>\n      <th>424</th>\n      <td>2022-12-22 01:21:29</td>\n      <td>RunTFTCustomVersion bestfit finalize Visualize...</td>\n      <td>0.0</td>\n      <td>TIMER2</td>\n      <td>0 days 07:25:56</td>\n    </tr>\n  </tbody>\n</table>\n<p>425 rows × 5 columns</p>\n</div>"
     },
     "metadata": {},
     "output_type": "display_data"
    },
    {
     "name": "stdout",
     "output_type": "stream",
     "text": [
      "Generate output for Epoch 70\n",
      "A\n"
     ]
    },
    {
     "data": {
      "text/plain": "                            time  0 id  0 gpu_util %  0 memory_util %  \\\n0     2022-12-21 12:55:22.567625     0             0                0   \n1     2022-12-21 12:55:24.944998     0             0                0   \n2     2022-12-21 12:55:27.312904     0             0                0   \n3     2022-12-21 12:55:29.670564     0             0                0   \n4     2022-12-21 12:55:32.022750     0             0                0   \n...                          ...   ...           ...              ...   \n25104 2022-12-22 02:56:19.324727     0             0                0   \n25105 2022-12-22 02:56:20.978700     0             0                0   \n25106 2022-12-22 02:56:22.615679     0             0                0   \n25107 2022-12-22 02:56:24.252907     0             0                0   \n25108 2022-12-22 02:56:26.121414     0           100                3   \n\n       0 encoder_util %  0 decoder_util %  0 gpu_temp C  0 power_draw W  \\\n0                     0                 0            29           61.81   \n1                     0                 0            29           61.81   \n2                     0                 0            29           61.81   \n3                     0                 0            29           61.81   \n4                     0                 0            29           61.81   \n...                 ...               ...           ...             ...   \n25104                 0                 0            31           68.51   \n25105                 0                 0            31           68.51   \n25106                 0                 0            31           68.51   \n25107                 0                 0            32           87.30   \n25108                 0                 0            32           87.30   \n\n                    duration  \n0            0 days 00:00:00  \n1     0 days 00:00:02.377373  \n2     0 days 00:00:04.745279  \n3     0 days 00:00:07.102939  \n4     0 days 00:00:09.455125  \n...                      ...  \n25104 0 days 14:00:56.757102  \n25105 0 days 14:00:58.411075  \n25106 0 days 14:01:00.048054  \n25107 0 days 14:01:01.685282  \n25108 0 days 14:01:03.553789  \n\n[25109 rows x 9 columns]",
      "text/html": "<div>\n<style scoped>\n    .dataframe tbody tr th:only-of-type {\n        vertical-align: middle;\n    }\n\n    .dataframe tbody tr th {\n        vertical-align: top;\n    }\n\n    .dataframe thead th {\n        text-align: right;\n    }\n</style>\n<table border=\"1\" class=\"dataframe\">\n  <thead>\n    <tr style=\"text-align: right;\">\n      <th></th>\n      <th>time</th>\n      <th>0 id</th>\n      <th>0 gpu_util %</th>\n      <th>0 memory_util %</th>\n      <th>0 encoder_util %</th>\n      <th>0 decoder_util %</th>\n      <th>0 gpu_temp C</th>\n      <th>0 power_draw W</th>\n      <th>duration</th>\n    </tr>\n  </thead>\n  <tbody>\n    <tr>\n      <th>0</th>\n      <td>2022-12-21 12:55:22.567625</td>\n      <td>0</td>\n      <td>0</td>\n      <td>0</td>\n      <td>0</td>\n      <td>0</td>\n      <td>29</td>\n      <td>61.81</td>\n      <td>0 days 00:00:00</td>\n    </tr>\n    <tr>\n      <th>1</th>\n      <td>2022-12-21 12:55:24.944998</td>\n      <td>0</td>\n      <td>0</td>\n      <td>0</td>\n      <td>0</td>\n      <td>0</td>\n      <td>29</td>\n      <td>61.81</td>\n      <td>0 days 00:00:02.377373</td>\n    </tr>\n    <tr>\n      <th>2</th>\n      <td>2022-12-21 12:55:27.312904</td>\n      <td>0</td>\n      <td>0</td>\n      <td>0</td>\n      <td>0</td>\n      <td>0</td>\n      <td>29</td>\n      <td>61.81</td>\n      <td>0 days 00:00:04.745279</td>\n    </tr>\n    <tr>\n      <th>3</th>\n      <td>2022-12-21 12:55:29.670564</td>\n      <td>0</td>\n      <td>0</td>\n      <td>0</td>\n      <td>0</td>\n      <td>0</td>\n      <td>29</td>\n      <td>61.81</td>\n      <td>0 days 00:00:07.102939</td>\n    </tr>\n    <tr>\n      <th>4</th>\n      <td>2022-12-21 12:55:32.022750</td>\n      <td>0</td>\n      <td>0</td>\n      <td>0</td>\n      <td>0</td>\n      <td>0</td>\n      <td>29</td>\n      <td>61.81</td>\n      <td>0 days 00:00:09.455125</td>\n    </tr>\n    <tr>\n      <th>...</th>\n      <td>...</td>\n      <td>...</td>\n      <td>...</td>\n      <td>...</td>\n      <td>...</td>\n      <td>...</td>\n      <td>...</td>\n      <td>...</td>\n      <td>...</td>\n    </tr>\n    <tr>\n      <th>25104</th>\n      <td>2022-12-22 02:56:19.324727</td>\n      <td>0</td>\n      <td>0</td>\n      <td>0</td>\n      <td>0</td>\n      <td>0</td>\n      <td>31</td>\n      <td>68.51</td>\n      <td>0 days 14:00:56.757102</td>\n    </tr>\n    <tr>\n      <th>25105</th>\n      <td>2022-12-22 02:56:20.978700</td>\n      <td>0</td>\n      <td>0</td>\n      <td>0</td>\n      <td>0</td>\n      <td>0</td>\n      <td>31</td>\n      <td>68.51</td>\n      <td>0 days 14:00:58.411075</td>\n    </tr>\n    <tr>\n      <th>25106</th>\n      <td>2022-12-22 02:56:22.615679</td>\n      <td>0</td>\n      <td>0</td>\n      <td>0</td>\n      <td>0</td>\n      <td>0</td>\n      <td>31</td>\n      <td>68.51</td>\n      <td>0 days 14:01:00.048054</td>\n    </tr>\n    <tr>\n      <th>25107</th>\n      <td>2022-12-22 02:56:24.252907</td>\n      <td>0</td>\n      <td>0</td>\n      <td>0</td>\n      <td>0</td>\n      <td>0</td>\n      <td>32</td>\n      <td>87.30</td>\n      <td>0 days 14:01:01.685282</td>\n    </tr>\n    <tr>\n      <th>25108</th>\n      <td>2022-12-22 02:56:26.121414</td>\n      <td>0</td>\n      <td>100</td>\n      <td>3</td>\n      <td>0</td>\n      <td>0</td>\n      <td>32</td>\n      <td>87.30</td>\n      <td>0 days 14:01:03.553789</td>\n    </tr>\n  </tbody>\n</table>\n<p>25109 rows × 9 columns</p>\n</div>"
     },
     "metadata": {},
     "output_type": "display_data"
    },
    {
     "name": "stdout",
     "output_type": "stream",
     "text": [
      "B\n"
     ]
    },
    {
     "data": {
      "text/plain": "                   time                                              timer  \\\n0   2022-12-21 17:55:33                                              total   \n1   2022-12-21 17:55:33                                              total   \n2   2022-12-21 17:55:48                                               INIT   \n3   2022-12-21 17:55:51                                               EVAL   \n4   2022-12-21 17:55:51                                              PLOTS   \n..                  ...                                                ...   \n700 2022-12-22 07:56:11  RunTFTCustomVersion DLResults Graph Title even...   \n701 2022-12-22 07:56:11  RunTFTCustomVersion DLResults Graph Title even...   \n702 2022-12-22 07:56:12  RunTFTCustomVersion DLResults Graph Title even...   \n703 2022-12-22 07:56:12  RunTFTCustomVersion DLResults Graph Title even...   \n704 2022-12-22 07:56:12  RunTFTCustomVersion bestfit finalize Visualize...   \n\n            dt     tag        duration  \n0         None  TIMER1 0 days 00:00:00  \n1    50441.073  TIMER2 0 days 00:00:00  \n2        2.579  TIMER2 0 days 00:00:15  \n3      408.511  TIMER2 0 days 00:00:18  \n4      383.499  TIMER2 0 days 00:00:18  \n..         ...     ...             ...  \n700        0.0  TIMER2 0 days 14:00:38  \n701        0.0  TIMER2 0 days 14:00:38  \n702        0.0  TIMER2 0 days 14:00:39  \n703        0.0  TIMER2 0 days 14:00:39  \n704        0.0  TIMER2 0 days 14:00:39  \n\n[705 rows x 5 columns]",
      "text/html": "<div>\n<style scoped>\n    .dataframe tbody tr th:only-of-type {\n        vertical-align: middle;\n    }\n\n    .dataframe tbody tr th {\n        vertical-align: top;\n    }\n\n    .dataframe thead th {\n        text-align: right;\n    }\n</style>\n<table border=\"1\" class=\"dataframe\">\n  <thead>\n    <tr style=\"text-align: right;\">\n      <th></th>\n      <th>time</th>\n      <th>timer</th>\n      <th>dt</th>\n      <th>tag</th>\n      <th>duration</th>\n    </tr>\n  </thead>\n  <tbody>\n    <tr>\n      <th>0</th>\n      <td>2022-12-21 17:55:33</td>\n      <td>total</td>\n      <td>None</td>\n      <td>TIMER1</td>\n      <td>0 days 00:00:00</td>\n    </tr>\n    <tr>\n      <th>1</th>\n      <td>2022-12-21 17:55:33</td>\n      <td>total</td>\n      <td>50441.073</td>\n      <td>TIMER2</td>\n      <td>0 days 00:00:00</td>\n    </tr>\n    <tr>\n      <th>2</th>\n      <td>2022-12-21 17:55:48</td>\n      <td>INIT</td>\n      <td>2.579</td>\n      <td>TIMER2</td>\n      <td>0 days 00:00:15</td>\n    </tr>\n    <tr>\n      <th>3</th>\n      <td>2022-12-21 17:55:51</td>\n      <td>EVAL</td>\n      <td>408.511</td>\n      <td>TIMER2</td>\n      <td>0 days 00:00:18</td>\n    </tr>\n    <tr>\n      <th>4</th>\n      <td>2022-12-21 17:55:51</td>\n      <td>PLOTS</td>\n      <td>383.499</td>\n      <td>TIMER2</td>\n      <td>0 days 00:00:18</td>\n    </tr>\n    <tr>\n      <th>...</th>\n      <td>...</td>\n      <td>...</td>\n      <td>...</td>\n      <td>...</td>\n      <td>...</td>\n    </tr>\n    <tr>\n      <th>700</th>\n      <td>2022-12-22 07:56:11</td>\n      <td>RunTFTCustomVersion DLResults Graph Title even...</td>\n      <td>0.0</td>\n      <td>TIMER2</td>\n      <td>0 days 14:00:38</td>\n    </tr>\n    <tr>\n      <th>701</th>\n      <td>2022-12-22 07:56:11</td>\n      <td>RunTFTCustomVersion DLResults Graph Title even...</td>\n      <td>0.0</td>\n      <td>TIMER2</td>\n      <td>0 days 14:00:38</td>\n    </tr>\n    <tr>\n      <th>702</th>\n      <td>2022-12-22 07:56:12</td>\n      <td>RunTFTCustomVersion DLResults Graph Title even...</td>\n      <td>0.0</td>\n      <td>TIMER2</td>\n      <td>0 days 14:00:39</td>\n    </tr>\n    <tr>\n      <th>703</th>\n      <td>2022-12-22 07:56:12</td>\n      <td>RunTFTCustomVersion DLResults Graph Title even...</td>\n      <td>0.0</td>\n      <td>TIMER2</td>\n      <td>0 days 14:00:39</td>\n    </tr>\n    <tr>\n      <th>704</th>\n      <td>2022-12-22 07:56:12</td>\n      <td>RunTFTCustomVersion bestfit finalize Visualize...</td>\n      <td>0.0</td>\n      <td>TIMER2</td>\n      <td>0 days 14:00:39</td>\n    </tr>\n  </tbody>\n</table>\n<p>705 rows × 5 columns</p>\n</div>"
     },
     "metadata": {},
     "output_type": "display_data"
    },
    {
     "data": {
      "text/plain": "                            time  0 id  0 gpu_util %  0 memory_util %  \\\n0     2022-12-21 12:55:22.567625     0             0                0   \n1     2022-12-21 12:55:24.944998     0             0                0   \n2     2022-12-21 12:55:27.312904     0             0                0   \n3     2022-12-21 12:55:29.670564     0             0                0   \n4     2022-12-21 12:55:32.022750     0             0                0   \n...                          ...   ...           ...              ...   \n25104 2022-12-22 02:56:19.324727     0             0                0   \n25105 2022-12-22 02:56:20.978700     0             0                0   \n25106 2022-12-22 02:56:22.615679     0             0                0   \n25107 2022-12-22 02:56:24.252907     0             0                0   \n25108 2022-12-22 02:56:26.121414     0           100                3   \n\n       0 encoder_util %  0 decoder_util %  0 gpu_temp C  0 power_draw W  \\\n0                     0                 0            29           61.81   \n1                     0                 0            29           61.81   \n2                     0                 0            29           61.81   \n3                     0                 0            29           61.81   \n4                     0                 0            29           61.81   \n...                 ...               ...           ...             ...   \n25104                 0                 0            31           68.51   \n25105                 0                 0            31           68.51   \n25106                 0                 0            31           68.51   \n25107                 0                 0            32           87.30   \n25108                 0                 0            32           87.30   \n\n                    duration  \n0            0 days 00:00:00  \n1     0 days 00:00:02.377373  \n2     0 days 00:00:04.745279  \n3     0 days 00:00:07.102939  \n4     0 days 00:00:09.455125  \n...                      ...  \n25104 0 days 14:00:56.757102  \n25105 0 days 14:00:58.411075  \n25106 0 days 14:01:00.048054  \n25107 0 days 14:01:01.685282  \n25108 0 days 14:01:03.553789  \n\n[25109 rows x 9 columns]",
      "text/html": "<div>\n<style scoped>\n    .dataframe tbody tr th:only-of-type {\n        vertical-align: middle;\n    }\n\n    .dataframe tbody tr th {\n        vertical-align: top;\n    }\n\n    .dataframe thead th {\n        text-align: right;\n    }\n</style>\n<table border=\"1\" class=\"dataframe\">\n  <thead>\n    <tr style=\"text-align: right;\">\n      <th></th>\n      <th>time</th>\n      <th>0 id</th>\n      <th>0 gpu_util %</th>\n      <th>0 memory_util %</th>\n      <th>0 encoder_util %</th>\n      <th>0 decoder_util %</th>\n      <th>0 gpu_temp C</th>\n      <th>0 power_draw W</th>\n      <th>duration</th>\n    </tr>\n  </thead>\n  <tbody>\n    <tr>\n      <th>0</th>\n      <td>2022-12-21 12:55:22.567625</td>\n      <td>0</td>\n      <td>0</td>\n      <td>0</td>\n      <td>0</td>\n      <td>0</td>\n      <td>29</td>\n      <td>61.81</td>\n      <td>0 days 00:00:00</td>\n    </tr>\n    <tr>\n      <th>1</th>\n      <td>2022-12-21 12:55:24.944998</td>\n      <td>0</td>\n      <td>0</td>\n      <td>0</td>\n      <td>0</td>\n      <td>0</td>\n      <td>29</td>\n      <td>61.81</td>\n      <td>0 days 00:00:02.377373</td>\n    </tr>\n    <tr>\n      <th>2</th>\n      <td>2022-12-21 12:55:27.312904</td>\n      <td>0</td>\n      <td>0</td>\n      <td>0</td>\n      <td>0</td>\n      <td>0</td>\n      <td>29</td>\n      <td>61.81</td>\n      <td>0 days 00:00:04.745279</td>\n    </tr>\n    <tr>\n      <th>3</th>\n      <td>2022-12-21 12:55:29.670564</td>\n      <td>0</td>\n      <td>0</td>\n      <td>0</td>\n      <td>0</td>\n      <td>0</td>\n      <td>29</td>\n      <td>61.81</td>\n      <td>0 days 00:00:07.102939</td>\n    </tr>\n    <tr>\n      <th>4</th>\n      <td>2022-12-21 12:55:32.022750</td>\n      <td>0</td>\n      <td>0</td>\n      <td>0</td>\n      <td>0</td>\n      <td>0</td>\n      <td>29</td>\n      <td>61.81</td>\n      <td>0 days 00:00:09.455125</td>\n    </tr>\n    <tr>\n      <th>...</th>\n      <td>...</td>\n      <td>...</td>\n      <td>...</td>\n      <td>...</td>\n      <td>...</td>\n      <td>...</td>\n      <td>...</td>\n      <td>...</td>\n      <td>...</td>\n    </tr>\n    <tr>\n      <th>25104</th>\n      <td>2022-12-22 02:56:19.324727</td>\n      <td>0</td>\n      <td>0</td>\n      <td>0</td>\n      <td>0</td>\n      <td>0</td>\n      <td>31</td>\n      <td>68.51</td>\n      <td>0 days 14:00:56.757102</td>\n    </tr>\n    <tr>\n      <th>25105</th>\n      <td>2022-12-22 02:56:20.978700</td>\n      <td>0</td>\n      <td>0</td>\n      <td>0</td>\n      <td>0</td>\n      <td>0</td>\n      <td>31</td>\n      <td>68.51</td>\n      <td>0 days 14:00:58.411075</td>\n    </tr>\n    <tr>\n      <th>25106</th>\n      <td>2022-12-22 02:56:22.615679</td>\n      <td>0</td>\n      <td>0</td>\n      <td>0</td>\n      <td>0</td>\n      <td>0</td>\n      <td>31</td>\n      <td>68.51</td>\n      <td>0 days 14:01:00.048054</td>\n    </tr>\n    <tr>\n      <th>25107</th>\n      <td>2022-12-22 02:56:24.252907</td>\n      <td>0</td>\n      <td>0</td>\n      <td>0</td>\n      <td>0</td>\n      <td>0</td>\n      <td>32</td>\n      <td>87.30</td>\n      <td>0 days 14:01:01.685282</td>\n    </tr>\n    <tr>\n      <th>25108</th>\n      <td>2022-12-22 02:56:26.121414</td>\n      <td>0</td>\n      <td>100</td>\n      <td>3</td>\n      <td>0</td>\n      <td>0</td>\n      <td>32</td>\n      <td>87.30</td>\n      <td>0 days 14:01:03.553789</td>\n    </tr>\n  </tbody>\n</table>\n<p>25109 rows × 9 columns</p>\n</div>"
     },
     "metadata": {},
     "output_type": "display_data"
    },
    {
     "data": {
      "text/plain": "                   time                                              timer  \\\n0   2022-12-21 17:55:33                                              total   \n1   2022-12-21 17:55:33                                              total   \n2   2022-12-21 17:55:48                                               INIT   \n3   2022-12-21 17:55:51                                               EVAL   \n4   2022-12-21 17:55:51                                              PLOTS   \n..                  ...                                                ...   \n700 2022-12-22 07:56:11  RunTFTCustomVersion DLResults Graph Title even...   \n701 2022-12-22 07:56:11  RunTFTCustomVersion DLResults Graph Title even...   \n702 2022-12-22 07:56:12  RunTFTCustomVersion DLResults Graph Title even...   \n703 2022-12-22 07:56:12  RunTFTCustomVersion DLResults Graph Title even...   \n704 2022-12-22 07:56:12  RunTFTCustomVersion bestfit finalize Visualize...   \n\n            dt     tag        duration  \n0         None  TIMER1 0 days 00:00:00  \n1    50441.073  TIMER2 0 days 00:00:00  \n2        2.579  TIMER2 0 days 00:00:15  \n3      408.511  TIMER2 0 days 00:00:18  \n4      383.499  TIMER2 0 days 00:00:18  \n..         ...     ...             ...  \n700        0.0  TIMER2 0 days 14:00:38  \n701        0.0  TIMER2 0 days 14:00:38  \n702        0.0  TIMER2 0 days 14:00:39  \n703        0.0  TIMER2 0 days 14:00:39  \n704        0.0  TIMER2 0 days 14:00:39  \n\n[705 rows x 5 columns]",
      "text/html": "<div>\n<style scoped>\n    .dataframe tbody tr th:only-of-type {\n        vertical-align: middle;\n    }\n\n    .dataframe tbody tr th {\n        vertical-align: top;\n    }\n\n    .dataframe thead th {\n        text-align: right;\n    }\n</style>\n<table border=\"1\" class=\"dataframe\">\n  <thead>\n    <tr style=\"text-align: right;\">\n      <th></th>\n      <th>time</th>\n      <th>timer</th>\n      <th>dt</th>\n      <th>tag</th>\n      <th>duration</th>\n    </tr>\n  </thead>\n  <tbody>\n    <tr>\n      <th>0</th>\n      <td>2022-12-21 17:55:33</td>\n      <td>total</td>\n      <td>None</td>\n      <td>TIMER1</td>\n      <td>0 days 00:00:00</td>\n    </tr>\n    <tr>\n      <th>1</th>\n      <td>2022-12-21 17:55:33</td>\n      <td>total</td>\n      <td>50441.073</td>\n      <td>TIMER2</td>\n      <td>0 days 00:00:00</td>\n    </tr>\n    <tr>\n      <th>2</th>\n      <td>2022-12-21 17:55:48</td>\n      <td>INIT</td>\n      <td>2.579</td>\n      <td>TIMER2</td>\n      <td>0 days 00:00:15</td>\n    </tr>\n    <tr>\n      <th>3</th>\n      <td>2022-12-21 17:55:51</td>\n      <td>EVAL</td>\n      <td>408.511</td>\n      <td>TIMER2</td>\n      <td>0 days 00:00:18</td>\n    </tr>\n    <tr>\n      <th>4</th>\n      <td>2022-12-21 17:55:51</td>\n      <td>PLOTS</td>\n      <td>383.499</td>\n      <td>TIMER2</td>\n      <td>0 days 00:00:18</td>\n    </tr>\n    <tr>\n      <th>...</th>\n      <td>...</td>\n      <td>...</td>\n      <td>...</td>\n      <td>...</td>\n      <td>...</td>\n    </tr>\n    <tr>\n      <th>700</th>\n      <td>2022-12-22 07:56:11</td>\n      <td>RunTFTCustomVersion DLResults Graph Title even...</td>\n      <td>0.0</td>\n      <td>TIMER2</td>\n      <td>0 days 14:00:38</td>\n    </tr>\n    <tr>\n      <th>701</th>\n      <td>2022-12-22 07:56:11</td>\n      <td>RunTFTCustomVersion DLResults Graph Title even...</td>\n      <td>0.0</td>\n      <td>TIMER2</td>\n      <td>0 days 14:00:38</td>\n    </tr>\n    <tr>\n      <th>702</th>\n      <td>2022-12-22 07:56:12</td>\n      <td>RunTFTCustomVersion DLResults Graph Title even...</td>\n      <td>0.0</td>\n      <td>TIMER2</td>\n      <td>0 days 14:00:39</td>\n    </tr>\n    <tr>\n      <th>703</th>\n      <td>2022-12-22 07:56:12</td>\n      <td>RunTFTCustomVersion DLResults Graph Title even...</td>\n      <td>0.0</td>\n      <td>TIMER2</td>\n      <td>0 days 14:00:39</td>\n    </tr>\n    <tr>\n      <th>704</th>\n      <td>2022-12-22 07:56:12</td>\n      <td>RunTFTCustomVersion bestfit finalize Visualize...</td>\n      <td>0.0</td>\n      <td>TIMER2</td>\n      <td>0 days 14:00:39</td>\n    </tr>\n  </tbody>\n</table>\n<p>705 rows × 5 columns</p>\n</div>"
     },
     "metadata": {},
     "output_type": "display_data"
    }
   ],
   "source": [
    "list_of_filenames = [('./data/card_name_a100_gpu_count_1_cpu_num_6_mem_32GB_repeat_1_TFTTransformerepochs_2/gpu0.log', 2),\n",
    "                     ('./data/card_name_a100_gpu_count_1_cpu_num_6_mem_32GB_repeat_1_TFTTransformerepochs_30/gpu0.log', 30),\n",
    "                     ('./data/card_name_a100_gpu_count_1_cpu_num_6_mem_32GB_repeat_1_TFTTransformerepochs_70/gpu0.log', 70)]\n",
    "\n",
    "for entry  in files:\n",
    "    print (f\"Generate output for Epoch {entry.epoch}\")\n",
    "    energylog = read_energy(entry.gpulog)\n",
    "    eventlog = read_eventlog(entry.eventlog)\n",
    "\n",
    "    t0_energy = energylog.time.iloc[0]\n",
    "    t0_events = eventlog.time.iloc[0]\n",
    "\n",
    "    t0 = min(t0_events, t0_energy)\n",
    "\n",
    "    # energylog[\"time\"] = energylog[\"time\"] - t0\n",
    "    # eventlog[\"time\"] = eventlog[\"time\"] - t0\n",
    "\n",
    "    display(energylog)\n",
    "    display(eventlog)\n",
    "\n"
   ],
   "metadata": {
    "collapsed": false
   }
  },
  {
   "cell_type": "code",
   "execution_count": 114,
   "outputs": [],
   "source": [],
   "metadata": {
    "collapsed": false
   }
  },
  {
   "cell_type": "code",
   "execution_count": 114,
   "outputs": [],
   "source": [],
   "metadata": {
    "collapsed": false
   }
  },
  {
   "cell_type": "code",
   "execution_count": 114,
   "outputs": [],
   "source": [],
   "metadata": {
    "collapsed": false
   }
  },
  {
   "cell_type": "code",
   "execution_count": 114,
   "outputs": [],
   "source": [],
   "metadata": {
    "collapsed": false
   }
  },
  {
   "cell_type": "code",
   "execution_count": 114,
   "outputs": [],
   "source": [],
   "metadata": {
    "collapsed": false
   }
  },
  {
   "cell_type": "code",
   "execution_count": null,
   "outputs": [
    {
     "name": "stdout",
     "output_type": "stream",
     "text": [
      "A\n"
     ]
    },
    {
     "data": {
      "text/plain": "                           time  0 id  0 gpu_util %  0 memory_util %  \\\n0    2022-12-21 12:55:22.564333     0             0                0   \n1    2022-12-21 12:55:24.945493     0             0                0   \n2    2022-12-21 12:55:27.311910     0             0                0   \n3    2022-12-21 12:55:29.670566     0             0                0   \n4    2022-12-21 12:55:32.021929     0             0                0   \n...                         ...   ...           ...              ...   \n4515 2022-12-21 15:40:10.573657     0             0                0   \n4516 2022-12-21 15:40:12.721494     0             0                0   \n4517 2022-12-21 15:40:14.895605     0             0                0   \n4518 2022-12-21 15:40:17.046980     0             0                0   \n4519 2022-12-21 15:40:19.194902     0             0                0   \n\n      0 encoder_util %  0 decoder_util %  0 gpu_temp C  0 power_draw W  \\\n0                    0                 0            30           64.53   \n1                    0                 0            30           64.53   \n2                    0                 0            30           64.53   \n3                    0                 0            30           64.53   \n4                    0                 0            30           64.46   \n...                ...               ...           ...             ...   \n4515                 0                 0            32           71.79   \n4516                 0                 0            32           71.79   \n4517                 0                 0            32           71.45   \n4518                 0                 0            32           71.79   \n4519                 0                 0            32           88.77   \n\n                   duration  \n0           0 days 00:00:00  \n1    0 days 00:00:02.381160  \n2    0 days 00:00:04.747577  \n3    0 days 00:00:07.106233  \n4    0 days 00:00:09.457596  \n...                     ...  \n4515 0 days 02:44:48.009324  \n4516 0 days 02:44:50.157161  \n4517 0 days 02:44:52.331272  \n4518 0 days 02:44:54.482647  \n4519 0 days 02:44:56.630569  \n\n[4520 rows x 9 columns]",
      "text/html": "<div>\n<style scoped>\n    .dataframe tbody tr th:only-of-type {\n        vertical-align: middle;\n    }\n\n    .dataframe tbody tr th {\n        vertical-align: top;\n    }\n\n    .dataframe thead th {\n        text-align: right;\n    }\n</style>\n<table border=\"1\" class=\"dataframe\">\n  <thead>\n    <tr style=\"text-align: right;\">\n      <th></th>\n      <th>time</th>\n      <th>0 id</th>\n      <th>0 gpu_util %</th>\n      <th>0 memory_util %</th>\n      <th>0 encoder_util %</th>\n      <th>0 decoder_util %</th>\n      <th>0 gpu_temp C</th>\n      <th>0 power_draw W</th>\n      <th>duration</th>\n    </tr>\n  </thead>\n  <tbody>\n    <tr>\n      <th>0</th>\n      <td>2022-12-21 12:55:22.564333</td>\n      <td>0</td>\n      <td>0</td>\n      <td>0</td>\n      <td>0</td>\n      <td>0</td>\n      <td>30</td>\n      <td>64.53</td>\n      <td>0 days 00:00:00</td>\n    </tr>\n    <tr>\n      <th>1</th>\n      <td>2022-12-21 12:55:24.945493</td>\n      <td>0</td>\n      <td>0</td>\n      <td>0</td>\n      <td>0</td>\n      <td>0</td>\n      <td>30</td>\n      <td>64.53</td>\n      <td>0 days 00:00:02.381160</td>\n    </tr>\n    <tr>\n      <th>2</th>\n      <td>2022-12-21 12:55:27.311910</td>\n      <td>0</td>\n      <td>0</td>\n      <td>0</td>\n      <td>0</td>\n      <td>0</td>\n      <td>30</td>\n      <td>64.53</td>\n      <td>0 days 00:00:04.747577</td>\n    </tr>\n    <tr>\n      <th>3</th>\n      <td>2022-12-21 12:55:29.670566</td>\n      <td>0</td>\n      <td>0</td>\n      <td>0</td>\n      <td>0</td>\n      <td>0</td>\n      <td>30</td>\n      <td>64.53</td>\n      <td>0 days 00:00:07.106233</td>\n    </tr>\n    <tr>\n      <th>4</th>\n      <td>2022-12-21 12:55:32.021929</td>\n      <td>0</td>\n      <td>0</td>\n      <td>0</td>\n      <td>0</td>\n      <td>0</td>\n      <td>30</td>\n      <td>64.46</td>\n      <td>0 days 00:00:09.457596</td>\n    </tr>\n    <tr>\n      <th>...</th>\n      <td>...</td>\n      <td>...</td>\n      <td>...</td>\n      <td>...</td>\n      <td>...</td>\n      <td>...</td>\n      <td>...</td>\n      <td>...</td>\n      <td>...</td>\n    </tr>\n    <tr>\n      <th>4515</th>\n      <td>2022-12-21 15:40:10.573657</td>\n      <td>0</td>\n      <td>0</td>\n      <td>0</td>\n      <td>0</td>\n      <td>0</td>\n      <td>32</td>\n      <td>71.79</td>\n      <td>0 days 02:44:48.009324</td>\n    </tr>\n    <tr>\n      <th>4516</th>\n      <td>2022-12-21 15:40:12.721494</td>\n      <td>0</td>\n      <td>0</td>\n      <td>0</td>\n      <td>0</td>\n      <td>0</td>\n      <td>32</td>\n      <td>71.79</td>\n      <td>0 days 02:44:50.157161</td>\n    </tr>\n    <tr>\n      <th>4517</th>\n      <td>2022-12-21 15:40:14.895605</td>\n      <td>0</td>\n      <td>0</td>\n      <td>0</td>\n      <td>0</td>\n      <td>0</td>\n      <td>32</td>\n      <td>71.45</td>\n      <td>0 days 02:44:52.331272</td>\n    </tr>\n    <tr>\n      <th>4518</th>\n      <td>2022-12-21 15:40:17.046980</td>\n      <td>0</td>\n      <td>0</td>\n      <td>0</td>\n      <td>0</td>\n      <td>0</td>\n      <td>32</td>\n      <td>71.79</td>\n      <td>0 days 02:44:54.482647</td>\n    </tr>\n    <tr>\n      <th>4519</th>\n      <td>2022-12-21 15:40:19.194902</td>\n      <td>0</td>\n      <td>0</td>\n      <td>0</td>\n      <td>0</td>\n      <td>0</td>\n      <td>32</td>\n      <td>88.77</td>\n      <td>0 days 02:44:56.630569</td>\n    </tr>\n  </tbody>\n</table>\n<p>4520 rows × 9 columns</p>\n</div>"
     },
     "metadata": {},
     "output_type": "display_data"
    },
    {
     "name": "stdout",
     "output_type": "stream",
     "text": [
      "A\n"
     ]
    },
    {
     "data": {
      "text/plain": "                           time  0 id  0 gpu_util %  0 memory_util %  \\\n0    2022-12-21 12:55:22.564333     0             0                0   \n1    2022-12-21 12:55:24.945493     0             0                0   \n2    2022-12-21 12:55:27.311910     0             0                0   \n3    2022-12-21 12:55:29.670566     0             0                0   \n4    2022-12-21 12:55:32.021929     0             0                0   \n...                         ...   ...           ...              ...   \n4515 2022-12-21 15:40:10.573657     0             0                0   \n4516 2022-12-21 15:40:12.721494     0             0                0   \n4517 2022-12-21 15:40:14.895605     0             0                0   \n4518 2022-12-21 15:40:17.046980     0             0                0   \n4519 2022-12-21 15:40:19.194902     0             0                0   \n\n      0 encoder_util %  0 decoder_util %  0 gpu_temp C  0 power_draw W  \\\n0                    0                 0            30           64.53   \n1                    0                 0            30           64.53   \n2                    0                 0            30           64.53   \n3                    0                 0            30           64.53   \n4                    0                 0            30           64.46   \n...                ...               ...           ...             ...   \n4515                 0                 0            32           71.79   \n4516                 0                 0            32           71.79   \n4517                 0                 0            32           71.45   \n4518                 0                 0            32           71.79   \n4519                 0                 0            32           88.77   \n\n                   duration  \n0           0 days 00:00:00  \n1    0 days 00:00:02.381160  \n2    0 days 00:00:04.747577  \n3    0 days 00:00:07.106233  \n4    0 days 00:00:09.457596  \n...                     ...  \n4515 0 days 02:44:48.009324  \n4516 0 days 02:44:50.157161  \n4517 0 days 02:44:52.331272  \n4518 0 days 02:44:54.482647  \n4519 0 days 02:44:56.630569  \n\n[4520 rows x 9 columns]",
      "text/html": "<div>\n<style scoped>\n    .dataframe tbody tr th:only-of-type {\n        vertical-align: middle;\n    }\n\n    .dataframe tbody tr th {\n        vertical-align: top;\n    }\n\n    .dataframe thead th {\n        text-align: right;\n    }\n</style>\n<table border=\"1\" class=\"dataframe\">\n  <thead>\n    <tr style=\"text-align: right;\">\n      <th></th>\n      <th>time</th>\n      <th>0 id</th>\n      <th>0 gpu_util %</th>\n      <th>0 memory_util %</th>\n      <th>0 encoder_util %</th>\n      <th>0 decoder_util %</th>\n      <th>0 gpu_temp C</th>\n      <th>0 power_draw W</th>\n      <th>duration</th>\n    </tr>\n  </thead>\n  <tbody>\n    <tr>\n      <th>0</th>\n      <td>2022-12-21 12:55:22.564333</td>\n      <td>0</td>\n      <td>0</td>\n      <td>0</td>\n      <td>0</td>\n      <td>0</td>\n      <td>30</td>\n      <td>64.53</td>\n      <td>0 days 00:00:00</td>\n    </tr>\n    <tr>\n      <th>1</th>\n      <td>2022-12-21 12:55:24.945493</td>\n      <td>0</td>\n      <td>0</td>\n      <td>0</td>\n      <td>0</td>\n      <td>0</td>\n      <td>30</td>\n      <td>64.53</td>\n      <td>0 days 00:00:02.381160</td>\n    </tr>\n    <tr>\n      <th>2</th>\n      <td>2022-12-21 12:55:27.311910</td>\n      <td>0</td>\n      <td>0</td>\n      <td>0</td>\n      <td>0</td>\n      <td>0</td>\n      <td>30</td>\n      <td>64.53</td>\n      <td>0 days 00:00:04.747577</td>\n    </tr>\n    <tr>\n      <th>3</th>\n      <td>2022-12-21 12:55:29.670566</td>\n      <td>0</td>\n      <td>0</td>\n      <td>0</td>\n      <td>0</td>\n      <td>0</td>\n      <td>30</td>\n      <td>64.53</td>\n      <td>0 days 00:00:07.106233</td>\n    </tr>\n    <tr>\n      <th>4</th>\n      <td>2022-12-21 12:55:32.021929</td>\n      <td>0</td>\n      <td>0</td>\n      <td>0</td>\n      <td>0</td>\n      <td>0</td>\n      <td>30</td>\n      <td>64.46</td>\n      <td>0 days 00:00:09.457596</td>\n    </tr>\n    <tr>\n      <th>...</th>\n      <td>...</td>\n      <td>...</td>\n      <td>...</td>\n      <td>...</td>\n      <td>...</td>\n      <td>...</td>\n      <td>...</td>\n      <td>...</td>\n      <td>...</td>\n    </tr>\n    <tr>\n      <th>4515</th>\n      <td>2022-12-21 15:40:10.573657</td>\n      <td>0</td>\n      <td>0</td>\n      <td>0</td>\n      <td>0</td>\n      <td>0</td>\n      <td>32</td>\n      <td>71.79</td>\n      <td>0 days 02:44:48.009324</td>\n    </tr>\n    <tr>\n      <th>4516</th>\n      <td>2022-12-21 15:40:12.721494</td>\n      <td>0</td>\n      <td>0</td>\n      <td>0</td>\n      <td>0</td>\n      <td>0</td>\n      <td>32</td>\n      <td>71.79</td>\n      <td>0 days 02:44:50.157161</td>\n    </tr>\n    <tr>\n      <th>4517</th>\n      <td>2022-12-21 15:40:14.895605</td>\n      <td>0</td>\n      <td>0</td>\n      <td>0</td>\n      <td>0</td>\n      <td>0</td>\n      <td>32</td>\n      <td>71.45</td>\n      <td>0 days 02:44:52.331272</td>\n    </tr>\n    <tr>\n      <th>4518</th>\n      <td>2022-12-21 15:40:17.046980</td>\n      <td>0</td>\n      <td>0</td>\n      <td>0</td>\n      <td>0</td>\n      <td>0</td>\n      <td>32</td>\n      <td>71.79</td>\n      <td>0 days 02:44:54.482647</td>\n    </tr>\n    <tr>\n      <th>4519</th>\n      <td>2022-12-21 15:40:19.194902</td>\n      <td>0</td>\n      <td>0</td>\n      <td>0</td>\n      <td>0</td>\n      <td>0</td>\n      <td>32</td>\n      <td>88.77</td>\n      <td>0 days 02:44:56.630569</td>\n    </tr>\n  </tbody>\n</table>\n<p>4520 rows × 9 columns</p>\n</div>"
     },
     "metadata": {},
     "output_type": "display_data"
    }
   ],
   "source": [
    "read_energy('./data/card_name_a100_gpu_count_1_cpu_num_6_mem_32GB_repeat_1_TFTTransformerepochs_2/gpu0.log')\n",
    "ax = plot_energy('./data/card_name_a100_gpu_count_1_cpu_num_6_mem_32GB_repeat_1_TFTTransformerepochs_2/gpu0.log', 2)\n"
   ],
   "metadata": {
    "collapsed": false,
    "pycharm": {
     "is_executing": true
    }
   }
  },
  {
   "cell_type": "code",
   "execution_count": null,
   "outputs": [],
   "source": [],
   "metadata": {
    "collapsed": false,
    "pycharm": {
     "is_executing": true
    }
   }
  },
  {
   "cell_type": "code",
   "execution_count": null,
   "outputs": [],
   "source": [],
   "metadata": {
    "collapsed": false,
    "pycharm": {
     "is_executing": true
    }
   }
  }
 ],
 "metadata": {
  "kernelspec": {
   "display_name": "Python 3",
   "language": "python",
   "name": "python3"
  },
  "language_info": {
   "codemirror_mode": {
    "name": "ipython",
    "version": 2
   },
   "file_extension": ".py",
   "mimetype": "text/x-python",
   "name": "python",
   "nbconvert_exporter": "python",
   "pygments_lexer": "ipython2",
   "version": "2.7.6"
  }
 },
 "nbformat": 4,
 "nbformat_minor": 0
}
