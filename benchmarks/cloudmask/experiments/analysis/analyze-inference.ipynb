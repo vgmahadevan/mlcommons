{
 "cells": [
  {
   "cell_type": "code",
   "execution_count": 1,
   "metadata": {},
   "outputs": [
    {
     "data": {
      "text/plain": "'.\\\\project'"
     },
     "execution_count": 1,
     "metadata": {},
     "output_type": "execute_result"
    }
   ],
   "source": [
    "import os\n",
    "import pandas as pd\n",
    "import json\n",
    "\n",
    "project_dir = os.path.join(os.curdir, \"project\")\n",
    "project_dir"
   ]
  },
  {
   "cell_type": "code",
   "execution_count": 2,
   "metadata": {},
   "outputs": [],
   "source": [
    "training_result = {}\n",
    "inf_result = {}\n",
    "sorted_inf_result = {}\n",
    "\n",
    "for exp in os.listdir(project_dir):\n",
    "    directory = os.path.join(project_dir, exp)\n",
    "\n",
    "    try:\n",
    "        file = open(os.path.join(directory, \"mlperf_cloudmask.log\"), \"r\")\n",
    "    except FileNotFoundError:\n",
    "        continue\n",
    "\n",
    "    data = None\n",
    "    for line in file:\n",
    "        if \"result\" in line:\n",
    "            data = line.rstrip()\n",
    "\n",
    "    if not data:\n",
    "        continue\n",
    "\n",
    "    data = json.loads(data[9:])\n",
    "\n",
    "    loss = data[\"value\"][\"training\"][\"history\"][\"loss\"]\n",
    "    accuracy = data[\"value\"][\"training\"][\"history\"][\"accuracy\"]\n",
    "    val_loss = data[\"value\"][\"training\"][\"history\"][\"val_loss\"]\n",
    "    val_accuracy = data[\"value\"][\"training\"][\"history\"][\"val_accuracy\"]\n",
    "    epochs = len(accuracy)\n",
    "\n",
    "    df = pd.DataFrame(list(zip(loss, accuracy, val_loss, val_accuracy)), columns=[\"Loss\", \"Accuracy\", \"ValLoss\", \"ValAccuracy\"])\n",
    "\n",
    "    training_result[epochs] = df\n",
    "\n",
    "    inference = data[\"value\"][\"inference\"][\"accuracy\"]\n",
    "    if len(inference) != 100:\n",
    "        continue\n",
    "    inf_result[epochs] = inference\n",
    "\n",
    "    for i in range(len(inference)):\n",
    "        inference[i] = float(inference[i])\n",
    "\n",
    "    inference.sort(reverse=True)\n",
    "    sorted_inf_result[epochs] = inference\n"
   ]
  },
  {
   "cell_type": "code",
   "execution_count": 3,
   "metadata": {},
   "outputs": [
    {
     "data": {
      "text/plain": "          1         3         50\n0   0.962921  0.962921  0.962921\n1   0.960064  0.960064  0.960064\n2   0.959243  0.959243  0.959243\n3   0.956681  0.956681  0.956681\n4   0.946067  0.946067  0.946067\n..       ...       ...       ...\n95  0.580571  0.580571  0.580571\n96  0.553338  0.553338  0.553338\n97  0.531188  0.531188  0.531188\n98  0.503403  0.503403  0.503403\n99  0.474946  0.474946  0.474946\n\n[100 rows x 3 columns]",
      "text/html": "<div>\n<style scoped>\n    .dataframe tbody tr th:only-of-type {\n        vertical-align: middle;\n    }\n\n    .dataframe tbody tr th {\n        vertical-align: top;\n    }\n\n    .dataframe thead th {\n        text-align: right;\n    }\n</style>\n<table border=\"1\" class=\"dataframe\">\n  <thead>\n    <tr style=\"text-align: right;\">\n      <th></th>\n      <th>1</th>\n      <th>3</th>\n      <th>50</th>\n    </tr>\n  </thead>\n  <tbody>\n    <tr>\n      <th>0</th>\n      <td>0.962921</td>\n      <td>0.962921</td>\n      <td>0.962921</td>\n    </tr>\n    <tr>\n      <th>1</th>\n      <td>0.960064</td>\n      <td>0.960064</td>\n      <td>0.960064</td>\n    </tr>\n    <tr>\n      <th>2</th>\n      <td>0.959243</td>\n      <td>0.959243</td>\n      <td>0.959243</td>\n    </tr>\n    <tr>\n      <th>3</th>\n      <td>0.956681</td>\n      <td>0.956681</td>\n      <td>0.956681</td>\n    </tr>\n    <tr>\n      <th>4</th>\n      <td>0.946067</td>\n      <td>0.946067</td>\n      <td>0.946067</td>\n    </tr>\n    <tr>\n      <th>...</th>\n      <td>...</td>\n      <td>...</td>\n      <td>...</td>\n    </tr>\n    <tr>\n      <th>95</th>\n      <td>0.580571</td>\n      <td>0.580571</td>\n      <td>0.580571</td>\n    </tr>\n    <tr>\n      <th>96</th>\n      <td>0.553338</td>\n      <td>0.553338</td>\n      <td>0.553338</td>\n    </tr>\n    <tr>\n      <th>97</th>\n      <td>0.531188</td>\n      <td>0.531188</td>\n      <td>0.531188</td>\n    </tr>\n    <tr>\n      <th>98</th>\n      <td>0.503403</td>\n      <td>0.503403</td>\n      <td>0.503403</td>\n    </tr>\n    <tr>\n      <th>99</th>\n      <td>0.474946</td>\n      <td>0.474946</td>\n      <td>0.474946</td>\n    </tr>\n  </tbody>\n</table>\n<p>100 rows × 3 columns</p>\n</div>"
     },
     "metadata": {},
     "output_type": "display_data"
    }
   ],
   "source": [
    "from pprint import pprint\n",
    "inf_df = pd.DataFrame(inf_result)\n",
    "sorted_inf_df = pd.DataFrame(sorted_inf_result)\n",
    "\n",
    "#pprint(sorted_inf_result)\n",
    "display(sorted_inf_df)"
   ]
  },
  {
   "cell_type": "code",
   "execution_count": 3,
   "outputs": [],
   "source": [],
   "metadata": {
    "collapsed": false
   }
  }
 ],
 "metadata": {
  "kernelspec": {
   "display_name": "Python 3.11.0 64-bit",
   "language": "python",
   "name": "python3"
  },
  "language_info": {
   "codemirror_mode": {
    "name": "ipython",
    "version": 3
   },
   "file_extension": ".py",
   "mimetype": "text/x-python",
   "name": "python",
   "nbconvert_exporter": "python",
   "pygments_lexer": "ipython3",
   "version": "3.11.0"
  },
  "orig_nbformat": 4,
  "vscode": {
   "interpreter": {
    "hash": "0c7412b13a5da4368c84842569ea00b4bc51f0c970e04bc77ac2576d00fbbb84"
   }
  }
 },
 "nbformat": 4,
 "nbformat_minor": 2
}
