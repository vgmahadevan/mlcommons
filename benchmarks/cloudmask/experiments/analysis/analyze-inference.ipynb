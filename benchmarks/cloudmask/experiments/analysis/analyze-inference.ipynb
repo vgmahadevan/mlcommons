{
 "cells": [
  {
   "cell_type": "code",
   "execution_count": 28,
   "metadata": {},
   "outputs": [
    {
     "data": {
      "text/plain": "'.\\\\project'"
     },
     "execution_count": 28,
     "metadata": {},
     "output_type": "execute_result"
    }
   ],
   "source": [
    "import os\n",
    "import pandas as pd\n",
    "import json\n",
    "import seaborn as sns\n",
    "\n",
    "project_dir = os.path.join(os.curdir, \"project\")\n",
    "project_dir"
   ]
  },
  {
   "cell_type": "code",
   "execution_count": 29,
   "metadata": {},
   "outputs": [],
   "source": [
    "training_result = {}\n",
    "inf_result = {}\n",
    "sorted_inf_result = {}\n",
    "\n",
    "for exp in os.listdir(project_dir):\n",
    "    directory = os.path.join(project_dir, exp)\n",
    "\n",
    "    try:\n",
    "        file = open(os.path.join(directory, \"mlperf_cloudmask.log\"), \"r\")\n",
    "    except FileNotFoundError:\n",
    "        continue\n",
    "\n",
    "    data = None\n",
    "    for line in file:\n",
    "        if \"result\" in line:\n",
    "            data = line.rstrip()\n",
    "\n",
    "    if not data:\n",
    "        continue\n",
    "\n",
    "    data = json.loads(data[9:])\n",
    "\n",
    "    loss = data[\"value\"][\"training\"][\"history\"][\"loss\"]\n",
    "    accuracy = data[\"value\"][\"training\"][\"history\"][\"accuracy\"]\n",
    "    val_loss = data[\"value\"][\"training\"][\"history\"][\"val_loss\"]\n",
    "    val_accuracy = data[\"value\"][\"training\"][\"history\"][\"val_accuracy\"]\n",
    "    epochs = len(accuracy)\n",
    "\n",
    "    df = pd.DataFrame(list(zip(loss, accuracy, val_loss, val_accuracy)), columns=[\"Loss\", \"Accuracy\", \"ValLoss\", \"ValAccuracy\"])\n",
    "\n",
    "    training_result[epochs] = df\n",
    "\n",
    "    inference = data[\"value\"][\"inference\"][\"accuracy\"]\n",
    "    if len(inference) != 100:\n",
    "        continue\n",
    "    inf_result[epochs] = inference\n",
    "\n",
    "    for i in range(len(inference)):\n",
    "        inference[i] = float(inference[i])\n",
    "\n",
    "    inference.sort(reverse=True)\n",
    "    sorted_inf_result[epochs] = inference\n"
   ]
  },
  {
   "cell_type": "code",
   "execution_count": 30,
   "metadata": {},
   "outputs": [
    {
     "data": {
      "text/plain": "         100       10        1         30        50 \n0   0.962921  0.962921  0.962921  0.962921  0.962921\n1   0.960064  0.960064  0.960064  0.960064  0.960064\n2   0.959243  0.959243  0.959243  0.959243  0.959243\n3   0.956681  0.956681  0.956681  0.956681  0.956681\n4   0.946067  0.946067  0.946067  0.946067  0.946067\n..       ...       ...       ...       ...       ...\n95  0.580571  0.580571  0.580571  0.580571  0.580571\n96  0.553338  0.553338  0.553338  0.553338  0.553338\n97  0.531188  0.531188  0.531188  0.531188  0.531188\n98  0.503403  0.503403  0.503403  0.503403  0.503403\n99  0.474946  0.474946  0.474946  0.474946  0.474946\n\n[100 rows x 5 columns]",
      "text/html": "<div>\n<style scoped>\n    .dataframe tbody tr th:only-of-type {\n        vertical-align: middle;\n    }\n\n    .dataframe tbody tr th {\n        vertical-align: top;\n    }\n\n    .dataframe thead th {\n        text-align: right;\n    }\n</style>\n<table border=\"1\" class=\"dataframe\">\n  <thead>\n    <tr style=\"text-align: right;\">\n      <th></th>\n      <th>100</th>\n      <th>10</th>\n      <th>1</th>\n      <th>30</th>\n      <th>50</th>\n    </tr>\n  </thead>\n  <tbody>\n    <tr>\n      <th>0</th>\n      <td>0.962921</td>\n      <td>0.962921</td>\n      <td>0.962921</td>\n      <td>0.962921</td>\n      <td>0.962921</td>\n    </tr>\n    <tr>\n      <th>1</th>\n      <td>0.960064</td>\n      <td>0.960064</td>\n      <td>0.960064</td>\n      <td>0.960064</td>\n      <td>0.960064</td>\n    </tr>\n    <tr>\n      <th>2</th>\n      <td>0.959243</td>\n      <td>0.959243</td>\n      <td>0.959243</td>\n      <td>0.959243</td>\n      <td>0.959243</td>\n    </tr>\n    <tr>\n      <th>3</th>\n      <td>0.956681</td>\n      <td>0.956681</td>\n      <td>0.956681</td>\n      <td>0.956681</td>\n      <td>0.956681</td>\n    </tr>\n    <tr>\n      <th>4</th>\n      <td>0.946067</td>\n      <td>0.946067</td>\n      <td>0.946067</td>\n      <td>0.946067</td>\n      <td>0.946067</td>\n    </tr>\n    <tr>\n      <th>...</th>\n      <td>...</td>\n      <td>...</td>\n      <td>...</td>\n      <td>...</td>\n      <td>...</td>\n    </tr>\n    <tr>\n      <th>95</th>\n      <td>0.580571</td>\n      <td>0.580571</td>\n      <td>0.580571</td>\n      <td>0.580571</td>\n      <td>0.580571</td>\n    </tr>\n    <tr>\n      <th>96</th>\n      <td>0.553338</td>\n      <td>0.553338</td>\n      <td>0.553338</td>\n      <td>0.553338</td>\n      <td>0.553338</td>\n    </tr>\n    <tr>\n      <th>97</th>\n      <td>0.531188</td>\n      <td>0.531188</td>\n      <td>0.531188</td>\n      <td>0.531188</td>\n      <td>0.531188</td>\n    </tr>\n    <tr>\n      <th>98</th>\n      <td>0.503403</td>\n      <td>0.503403</td>\n      <td>0.503403</td>\n      <td>0.503403</td>\n      <td>0.503403</td>\n    </tr>\n    <tr>\n      <th>99</th>\n      <td>0.474946</td>\n      <td>0.474946</td>\n      <td>0.474946</td>\n      <td>0.474946</td>\n      <td>0.474946</td>\n    </tr>\n  </tbody>\n</table>\n<p>100 rows × 5 columns</p>\n</div>"
     },
     "metadata": {},
     "output_type": "display_data"
    }
   ],
   "source": [
    "from pprint import pprint\n",
    "inf_df = pd.DataFrame(inf_result)\n",
    "sorted_inf_df = pd.DataFrame(sorted_inf_result)\n",
    "\n",
    "#pprint(sorted_inf_result)\n",
    "display(sorted_inf_df)\n"
   ]
  },
  {
   "cell_type": "code",
   "execution_count": 31,
   "outputs": [
    {
     "name": "stdout",
     "output_type": "stream",
     "text": [
      "         100       10        1         30        50 \n",
      "0   0.962921  0.962921  0.962921  0.962921  0.962921\n",
      "1   0.960064  0.960064  0.960064  0.960064  0.960064\n",
      "2   0.959243  0.959243  0.959243  0.959243  0.959243\n",
      "3   0.956681  0.956681  0.956681  0.956681  0.956681\n",
      "4   0.946067  0.946067  0.946067  0.946067  0.946067\n",
      "5   0.942953  0.942953  0.942953  0.942953  0.942953\n",
      "6   0.941927  0.941927  0.941927  0.941927  0.941927\n",
      "7   0.933012  0.933012  0.933012  0.933012  0.933012\n",
      "8   0.932646  0.932646  0.932646  0.932646  0.932646\n",
      "9   0.931296  0.931296  0.931296  0.931296  0.931296\n",
      "10  0.922054  0.922054  0.922054  0.922054  0.922054\n",
      "11  0.921224  0.921224  0.921224  0.921224  0.921224\n",
      "12  0.919211  0.919211  0.919211  0.919211  0.919211\n",
      "13  0.918386  0.918386  0.918386  0.918386  0.918386\n",
      "14  0.916601  0.916601  0.916601  0.916601  0.916601\n",
      "15  0.914037  0.914037  0.914037  0.914037  0.914037\n",
      "16  0.912941  0.912941  0.912941  0.912941  0.912941\n",
      "17  0.912114  0.912114  0.912114  0.912114  0.912114\n",
      "18  0.912079  0.912079  0.912079  0.912079  0.912079\n",
      "19  0.910107  0.910107  0.910107  0.910107  0.910107\n",
      "20  0.909885  0.909885  0.909885  0.909885  0.909885\n",
      "21  0.907749  0.907749  0.907749  0.907749  0.907749\n",
      "22  0.906734  0.906734  0.906734  0.906734  0.906734\n",
      "23  0.903234  0.903234  0.903234  0.903234  0.903234\n",
      "24  0.902511  0.902511  0.902511  0.902511  0.902511\n",
      "25  0.901370  0.901370  0.901370  0.901370  0.901370\n",
      "26  0.900826  0.900826  0.900826  0.900826  0.900826\n",
      "27  0.899869  0.899869  0.899869  0.899869  0.899869\n",
      "28  0.898773  0.898773  0.898773  0.898773  0.898773\n",
      "29  0.896599  0.896599  0.896599  0.896599  0.896599\n",
      "30  0.895526  0.895526  0.895526  0.895526  0.895526\n",
      "31  0.882933  0.882933  0.882933  0.882933  0.882933\n",
      "32  0.879989  0.879989  0.879989  0.879989  0.879989\n",
      "33  0.877329  0.877329  0.877329  0.877329  0.877329\n",
      "34  0.875454  0.875454  0.875454  0.875454  0.875454\n",
      "35  0.874392  0.874392  0.874392  0.874392  0.874392\n",
      "36  0.872196  0.872196  0.872196  0.872196  0.872196\n",
      "37  0.867493  0.867493  0.867493  0.867493  0.867493\n",
      "38  0.863840  0.863840  0.863840  0.863840  0.863840\n",
      "39  0.862706  0.862706  0.862706  0.862706  0.862706\n",
      "40  0.862196  0.862196  0.862196  0.862196  0.862196\n",
      "41  0.860766  0.860766  0.860766  0.860766  0.860766\n",
      "42  0.859622  0.859622  0.859622  0.859622  0.859622\n",
      "43  0.858017  0.858017  0.858017  0.858017  0.858017\n",
      "44  0.856593  0.856593  0.856593  0.856593  0.856593\n",
      "45  0.856258  0.856258  0.856258  0.856258  0.856258\n",
      "46  0.844717  0.844717  0.844717  0.844717  0.844717\n",
      "47  0.840491  0.840491  0.840491  0.840491  0.840491\n",
      "48  0.837769  0.837769  0.837769  0.837769  0.837769\n",
      "49  0.836850  0.836850  0.836850  0.836850  0.836850\n",
      "50  0.835367  0.835367  0.835367  0.835367  0.835367\n",
      "51  0.833679  0.833679  0.833679  0.833679  0.833679\n",
      "52  0.832847  0.832847  0.832847  0.832847  0.832847\n",
      "53  0.826334  0.826334  0.826334  0.826334  0.826334\n",
      "54  0.825263  0.825263  0.825263  0.825263  0.825263\n",
      "55  0.818454  0.818454  0.818454  0.818454  0.818454\n",
      "56  0.814265  0.814265  0.814265  0.814265  0.814265\n",
      "57  0.813666  0.813666  0.813666  0.813666  0.813666\n",
      "58  0.810908  0.810908  0.810908  0.810908  0.810908\n",
      "59  0.810048  0.810048  0.810048  0.810048  0.810048\n",
      "60  0.798227  0.798227  0.798227  0.798227  0.798227\n",
      "61  0.793421  0.793421  0.793421  0.793421  0.793421\n",
      "62  0.790993  0.790993  0.790993  0.790993  0.790993\n",
      "63  0.790064  0.790064  0.790064  0.790064  0.790064\n",
      "64  0.788822  0.788822  0.788822  0.788822  0.788822\n",
      "65  0.780005  0.780005  0.780005  0.780005  0.780005\n",
      "66  0.779727  0.779727  0.779727  0.779727  0.779727\n",
      "67  0.777528  0.777528  0.777528  0.777528  0.777528\n",
      "68  0.769068  0.769068  0.769068  0.769068  0.769068\n",
      "69  0.767892  0.767892  0.767892  0.767892  0.767892\n",
      "70  0.761269  0.761269  0.761269  0.761269  0.761269\n",
      "71  0.753747  0.753747  0.753747  0.753747  0.753747\n",
      "72  0.745413  0.745413  0.745413  0.745413  0.745413\n",
      "73  0.743662  0.743662  0.743662  0.743662  0.743662\n",
      "74  0.741972  0.741972  0.741972  0.741972  0.741972\n",
      "75  0.741378  0.741378  0.741378  0.741378  0.741378\n",
      "76  0.738874  0.738874  0.738874  0.738874  0.738874\n",
      "77  0.732072  0.732072  0.732072  0.732072  0.732072\n",
      "78  0.720888  0.720888  0.720888  0.720888  0.720888\n",
      "79  0.713875  0.713875  0.713875  0.713875  0.713875\n",
      "80  0.706338  0.706338  0.706338  0.706338  0.706338\n",
      "81  0.698991  0.698991  0.698991  0.698991  0.698991\n",
      "82  0.687164  0.687164  0.687164  0.687164  0.687164\n",
      "83  0.686286  0.686286  0.686286  0.686286  0.686286\n",
      "84  0.678978  0.678978  0.678978  0.678978  0.678978\n",
      "85  0.673653  0.673653  0.673653  0.673653  0.673653\n",
      "86  0.667638  0.667638  0.667638  0.667638  0.667638\n",
      "87  0.663736  0.663736  0.663736  0.663736  0.663736\n",
      "88  0.659466  0.659466  0.659466  0.659466  0.659466\n",
      "89  0.659054  0.659054  0.659054  0.659054  0.659054\n",
      "90  0.653903  0.653903  0.653903  0.653903  0.653903\n",
      "91  0.638286  0.638286  0.638286  0.638286  0.638286\n",
      "92  0.620479  0.620479  0.620479  0.620479  0.620479\n",
      "93  0.615944  0.615944  0.615944  0.615944  0.615944\n",
      "94  0.593212  0.593212  0.593212  0.593212  0.593212\n",
      "95  0.580571  0.580571  0.580571  0.580571  0.580571\n",
      "96  0.553338  0.553338  0.553338  0.553338  0.553338\n",
      "97  0.531188  0.531188  0.531188  0.531188  0.531188\n",
      "98  0.503403  0.503403  0.503403  0.503403  0.503403\n",
      "99  0.474946  0.474946  0.474946  0.474946  0.474946\n"
     ]
    }
   ],
   "source": [
    "print(sorted_inf_df.to_string())"
   ],
   "metadata": {
    "collapsed": false
   }
  },
  {
   "cell_type": "code",
   "execution_count": 32,
   "outputs": [
    {
     "data": {
      "text/plain": "<AxesSubplot: ylabel='1'>"
     },
     "execution_count": 32,
     "metadata": {},
     "output_type": "execute_result"
    },
    {
     "data": {
      "text/plain": "<Figure size 640x480 with 1 Axes>",
      "image/png": "[encoded data removed]"
     },
     "metadata": {},
     "output_type": "display_data"
    }
   ],
   "source": [
    "sns.lineplot(sorted_inf_df, y=1, x=sorted_inf_df.index)\n",
    "# df = sorted_inf_df\n",
    "# print(df.keys())\n",
    "# df['x'] = df.index\n",
    "# df['y'] = df[1]\n",
    "#\n",
    "# sns.lineplot(sorted_inf_df, y='y', x='x')\n"
   ],
   "metadata": {
    "collapsed": false
   }
  },
  {
   "cell_type": "code",
   "execution_count": 33,
   "outputs": [
    {
     "data": {
      "text/plain": "              100         10          1           30          50 \ncount  100.000000  100.000000  100.000000  100.000000  100.000000\nmean     0.809146    0.809146    0.809146    0.809146    0.809146\nstd      0.112958    0.112958    0.112958    0.112958    0.112958\nmin      0.474946    0.474946    0.474946    0.474946    0.474946\n25%      0.741824    0.741824    0.741824    0.741824    0.741824\n50%      0.836108    0.836108    0.836108    0.836108    0.836108\n75%      0.901655    0.901655    0.901655    0.901655    0.901655\nmax      0.962921    0.962921    0.962921    0.962921    0.962921",
      "text/html": "<div>\n<style scoped>\n    .dataframe tbody tr th:only-of-type {\n        vertical-align: middle;\n    }\n\n    .dataframe tbody tr th {\n        vertical-align: top;\n    }\n\n    .dataframe thead th {\n        text-align: right;\n    }\n</style>\n<table border=\"1\" class=\"dataframe\">\n  <thead>\n    <tr style=\"text-align: right;\">\n      <th></th>\n      <th>100</th>\n      <th>10</th>\n      <th>1</th>\n      <th>30</th>\n      <th>50</th>\n    </tr>\n  </thead>\n  <tbody>\n    <tr>\n      <th>count</th>\n      <td>100.000000</td>\n      <td>100.000000</td>\n      <td>100.000000</td>\n      <td>100.000000</td>\n      <td>100.000000</td>\n    </tr>\n    <tr>\n      <th>mean</th>\n      <td>0.809146</td>\n      <td>0.809146</td>\n      <td>0.809146</td>\n      <td>0.809146</td>\n      <td>0.809146</td>\n    </tr>\n    <tr>\n      <th>std</th>\n      <td>0.112958</td>\n      <td>0.112958</td>\n      <td>0.112958</td>\n      <td>0.112958</td>\n      <td>0.112958</td>\n    </tr>\n    <tr>\n      <th>min</th>\n      <td>0.474946</td>\n      <td>0.474946</td>\n      <td>0.474946</td>\n      <td>0.474946</td>\n      <td>0.474946</td>\n    </tr>\n    <tr>\n      <th>25%</th>\n      <td>0.741824</td>\n      <td>0.741824</td>\n      <td>0.741824</td>\n      <td>0.741824</td>\n      <td>0.741824</td>\n    </tr>\n    <tr>\n      <th>50%</th>\n      <td>0.836108</td>\n      <td>0.836108</td>\n      <td>0.836108</td>\n      <td>0.836108</td>\n      <td>0.836108</td>\n    </tr>\n    <tr>\n      <th>75%</th>\n      <td>0.901655</td>\n      <td>0.901655</td>\n      <td>0.901655</td>\n      <td>0.901655</td>\n      <td>0.901655</td>\n    </tr>\n    <tr>\n      <th>max</th>\n      <td>0.962921</td>\n      <td>0.962921</td>\n      <td>0.962921</td>\n      <td>0.962921</td>\n      <td>0.962921</td>\n    </tr>\n  </tbody>\n</table>\n</div>"
     },
     "execution_count": 33,
     "metadata": {},
     "output_type": "execute_result"
    }
   ],
   "source": [
    "sorted_inf_df.describe()"
   ],
   "metadata": {
    "collapsed": false
   }
  },
  {
   "cell_type": "code",
   "execution_count": 27,
   "outputs": [],
   "source": [],
   "metadata": {
    "collapsed": false
   }
  }
 ],
 "metadata": {
  "kernelspec": {
   "display_name": "Python 3.11.0 64-bit",
   "language": "python",
   "name": "python3"
  },
  "language_info": {
   "codemirror_mode": {
    "name": "ipython",
    "version": 3
   },
   "file_extension": ".py",
   "mimetype": "text/x-python",
   "name": "python",
   "nbconvert_exporter": "python",
   "pygments_lexer": "ipython3",
   "version": "3.11.0"
  },
  "orig_nbformat": 4,
  "vscode": {
   "interpreter": {
    "hash": "0c7412b13a5da4368c84842569ea00b4bc51f0c970e04bc77ac2576d00fbbb84"
   }
  }
 },
 "nbformat": 4,
 "nbformat_minor": 2
}
